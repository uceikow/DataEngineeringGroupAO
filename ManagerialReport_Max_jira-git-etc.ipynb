{
 "cells": [
  {
   "cell_type": "markdown",
   "metadata": {},
   "source": [
    "# Managerial report "
   ]
  },
  {
   "cell_type": "markdown",
   "metadata": {},
   "source": [
    "In this project we used git, GitHub, Jira and Microsoft Teams to comunicate between team members as well as redistribute backlog in a more efficient way. During the introductory meeting initial plan was created and roles assigned with equal workload across team members. The process flow chart is presented to roughly sum up the completed tasks in the project."
   ]
  },
  {
   "cell_type": "markdown",
   "metadata": {},
   "source": [
    "<div class=\"image\">\n",
    "\n",
    "<img src=\"Project/DataEngineeringGroupAO/figures/Flow_chart.png\" width=\"100%\"  align=\"middle\">\n",
    "<p style=\"text-align:center\">Figure: Work flow</p>\n",
    "\n",
    "</div>"
   ]
  },
  {
   "cell_type": "markdown",
   "metadata": {},
   "source": [
    "Core tasks (red zone) had higher priority over other tasks. Team members approached most of the problems together with the highest attention to the core. \n",
    "<ol>\n",
    " <li>Names in the cells correspond to leads who are responsible for the task. However, leads were also responsible for engaging non-leads into tasks if any workforce available.</li>\n",
    " <li>The Work flow representation is not exhaustive and does not contain relatively smaller processes. For full task allocation see Jira Board. </li>\n",
    " <li>During the first meeting all members participated fully in discussion for one hour. Second meeting was held to correct workflow and resolve misconceptions in the group (not shown in the graph, reported on Jira) </li>\n",
    "</ol>\n"
   ]
  },
  {
   "cell_type": "markdown",
   "metadata": {},
   "source": [
    "During the project we tried branching, however, due to time limit group members agreed to follow the naming convention for more convenient merging of the final report. Where applicable notebooks were named as Topic_Owner_Comment. However, git comments were also useful to identify latest developments."
   ]
  },
  {
   "cell_type": "code",
   "execution_count": null,
   "metadata": {},
   "outputs": [],
   "source": []
  }
 ],
 "metadata": {
  "kernelspec": {
   "display_name": "Python [conda env:Python3]",
   "language": "python",
   "name": "conda-env-Python3-py"
  },
  "language_info": {
   "codemirror_mode": {
    "name": "ipython",
    "version": 3
   },
   "file_extension": ".py",
   "mimetype": "text/x-python",
   "name": "python",
   "nbconvert_exporter": "python",
   "pygments_lexer": "ipython3",
   "version": "3.6.10"
  }
 },
 "nbformat": 4,
 "nbformat_minor": 2
}
