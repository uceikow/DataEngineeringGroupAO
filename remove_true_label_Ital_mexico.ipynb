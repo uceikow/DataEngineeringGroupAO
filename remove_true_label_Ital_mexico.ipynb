{
 "cells": [
  {
   "cell_type": "markdown",
   "metadata": {
    "colab_type": "text",
    "id": "ojShiJy5gcpI"
   },
   "source": [
    "# Recipe Labelling"
   ]
  },
  {
   "cell_type": "markdown",
   "metadata": {
    "colab_type": "text",
    "id": "s4Sy3qWkgcpL"
   },
   "source": [
    "## Set up for the work"
   ]
  },
  {
   "cell_type": "code",
   "execution_count": 3,
   "metadata": {
    "colab": {
     "base_uri": "https://localhost:8080/",
     "height": 326
    },
    "colab_type": "code",
    "id": "WL0ih9fRhPEh",
    "outputId": "37bae947-6434-4cec-b260-57a1c0afdc93"
   },
   "outputs": [
    {
     "name": "stdout",
     "output_type": "stream",
     "text": [
      "Requirement already satisfied: snorkel in /usr/local/lib/python3.6/dist-packages (0.9.3)\n",
      "Requirement already satisfied: tqdm<5.0.0,>=4.33.0 in /usr/local/lib/python3.6/dist-packages (from snorkel) (4.43.0)\n",
      "Requirement already satisfied: tensorboardX<2.0,>=1.6 in /usr/local/lib/python3.6/dist-packages (from snorkel) (1.9)\n",
      "Requirement already satisfied: scikit-learn<0.22.0,>=0.20.2 in /usr/local/lib/python3.6/dist-packages (from snorkel) (0.21.3)\n",
      "Requirement already satisfied: scipy<2.0.0,>=1.2.0 in /usr/local/lib/python3.6/dist-packages (from snorkel) (1.4.1)\n",
      "Requirement already satisfied: pandas<0.26.0,>=0.25.0 in /usr/local/lib/python3.6/dist-packages (from snorkel) (0.25.3)\n",
      "Requirement already satisfied: munkres==1.1.2 in /usr/local/lib/python3.6/dist-packages (from snorkel) (1.1.2)\n",
      "Requirement already satisfied: torch<1.2.0,>=1.1.0 in /usr/local/lib/python3.6/dist-packages (from snorkel) (1.1.0)\n",
      "Requirement already satisfied: networkx<2.4,>=2.2 in /usr/local/lib/python3.6/dist-packages (from snorkel) (2.3)\n",
      "Requirement already satisfied: numpy<2.0.0,>=1.16.0 in /usr/local/lib/python3.6/dist-packages (from snorkel) (1.17.5)\n",
      "Requirement already satisfied: six in /usr/local/lib/python3.6/dist-packages (from tensorboardX<2.0,>=1.6->snorkel) (1.12.0)\n",
      "Requirement already satisfied: protobuf>=3.8.0 in /usr/local/lib/python3.6/dist-packages (from tensorboardX<2.0,>=1.6->snorkel) (3.10.0)\n",
      "Requirement already satisfied: joblib>=0.11 in /usr/local/lib/python3.6/dist-packages (from scikit-learn<0.22.0,>=0.20.2->snorkel) (0.14.1)\n",
      "Requirement already satisfied: pytz>=2017.2 in /usr/local/lib/python3.6/dist-packages (from pandas<0.26.0,>=0.25.0->snorkel) (2018.9)\n",
      "Requirement already satisfied: python-dateutil>=2.6.1 in /usr/local/lib/python3.6/dist-packages (from pandas<0.26.0,>=0.25.0->snorkel) (2.6.1)\n",
      "Requirement already satisfied: decorator>=4.3.0 in /usr/local/lib/python3.6/dist-packages (from networkx<2.4,>=2.2->snorkel) (4.4.1)\n",
      "Requirement already satisfied: setuptools in /usr/local/lib/python3.6/dist-packages (from protobuf>=3.8.0->tensorboardX<2.0,>=1.6->snorkel) (45.2.0)\n"
     ]
    }
   ],
   "source": [
    "! pip install snorkel"
   ]
  },
  {
   "cell_type": "code",
   "execution_count": 4,
   "metadata": {
    "colab": {
     "base_uri": "https://localhost:8080/",
     "height": 309
    },
    "colab_type": "code",
    "id": "RzMzZ5c8hPEn",
    "outputId": "d18973e6-8fe7-4847-fc51-d8a3589bdf65"
   },
   "outputs": [
    {
     "name": "stdout",
     "output_type": "stream",
     "text": [
      "Requirement already satisfied: spacy in /usr/local/lib/python3.6/dist-packages (2.1.9)\n",
      "Requirement already satisfied: requests<3.0.0,>=2.13.0 in /usr/local/lib/python3.6/dist-packages (from spacy) (2.21.0)\n",
      "Requirement already satisfied: numpy>=1.15.0 in /usr/local/lib/python3.6/dist-packages (from spacy) (1.17.5)\n",
      "Requirement already satisfied: murmurhash<1.1.0,>=0.28.0 in /usr/local/lib/python3.6/dist-packages (from spacy) (1.0.2)\n",
      "Requirement already satisfied: blis<0.3.0,>=0.2.2 in /usr/local/lib/python3.6/dist-packages (from spacy) (0.2.4)\n",
      "Requirement already satisfied: cymem<2.1.0,>=2.0.2 in /usr/local/lib/python3.6/dist-packages (from spacy) (2.0.3)\n",
      "Requirement already satisfied: thinc<7.1.0,>=7.0.8 in /usr/local/lib/python3.6/dist-packages (from spacy) (7.0.8)\n",
      "Requirement already satisfied: plac<1.0.0,>=0.9.6 in /usr/local/lib/python3.6/dist-packages (from spacy) (0.9.6)\n",
      "Requirement already satisfied: srsly<1.1.0,>=0.0.6 in /usr/local/lib/python3.6/dist-packages (from spacy) (1.0.1)\n",
      "Requirement already satisfied: wasabi<1.1.0,>=0.2.0 in /usr/local/lib/python3.6/dist-packages (from spacy) (0.6.0)\n",
      "Requirement already satisfied: preshed<2.1.0,>=2.0.1 in /usr/local/lib/python3.6/dist-packages (from spacy) (2.0.1)\n",
      "Requirement already satisfied: chardet<3.1.0,>=3.0.2 in /usr/local/lib/python3.6/dist-packages (from requests<3.0.0,>=2.13.0->spacy) (3.0.4)\n",
      "Requirement already satisfied: idna<2.9,>=2.5 in /usr/local/lib/python3.6/dist-packages (from requests<3.0.0,>=2.13.0->spacy) (2.8)\n",
      "Requirement already satisfied: certifi>=2017.4.17 in /usr/local/lib/python3.6/dist-packages (from requests<3.0.0,>=2.13.0->spacy) (2019.11.28)\n",
      "Requirement already satisfied: urllib3<1.25,>=1.21.1 in /usr/local/lib/python3.6/dist-packages (from requests<3.0.0,>=2.13.0->spacy) (1.24.3)\n",
      "Requirement already satisfied: tqdm<5.0.0,>=4.10.0 in /usr/local/lib/python3.6/dist-packages (from thinc<7.1.0,>=7.0.8->spacy) (4.43.0)\n"
     ]
    }
   ],
   "source": [
    "! pip install spacy"
   ]
  },
  {
   "cell_type": "code",
   "execution_count": 5,
   "metadata": {
    "colab": {
     "base_uri": "https://localhost:8080/",
     "height": 88
    },
    "colab_type": "code",
    "id": "PcrYo7xyhPEp",
    "outputId": "cec4c385-5acb-4bde-eba2-11c041fe1d84"
   },
   "outputs": [
    {
     "name": "stdout",
     "output_type": "stream",
     "text": [
      "Requirement already satisfied: en_core_web_sm==2.1.0 from https://github.com/explosion/spacy-models/releases/download/en_core_web_sm-2.1.0/en_core_web_sm-2.1.0.tar.gz#egg=en_core_web_sm==2.1.0 in /usr/local/lib/python3.6/dist-packages (2.1.0)\n",
      "\u001b[38;5;2m✔ Download and installation successful\u001b[0m\n",
      "You can now load the model via spacy.load('en_core_web_sm')\n"
     ]
    }
   ],
   "source": [
    "!python -m spacy download en_core_web_sm"
   ]
  },
  {
   "cell_type": "code",
   "execution_count": 6,
   "metadata": {
    "colab": {
     "base_uri": "https://localhost:8080/",
     "height": 51
    },
    "colab_type": "code",
    "id": "tdbski8thPFQ",
    "outputId": "9527fede-1a3f-4137-895b-358e122b4c2f"
   },
   "outputs": [
    {
     "name": "stdout",
     "output_type": "stream",
     "text": [
      "Requirement already satisfied: nltk in /usr/local/lib/python3.6/dist-packages (3.2.5)\n",
      "Requirement already satisfied: six in /usr/local/lib/python3.6/dist-packages (from nltk) (1.12.0)\n"
     ]
    }
   ],
   "source": [
    "! pip install nltk"
   ]
  },
  {
   "cell_type": "code",
   "execution_count": 8,
   "metadata": {
    "colab": {
     "base_uri": "https://localhost:8080/",
     "height": 136
    },
    "colab_type": "code",
    "id": "Byvg_0k7hPFU",
    "outputId": "ee3f2db2-faaf-4702-e889-b655767893ca"
   },
   "outputs": [
    {
     "name": "stdout",
     "output_type": "stream",
     "text": [
      "[nltk_data] Downloading package punkt to /root/nltk_data...\n",
      "[nltk_data]   Unzipping tokenizers/punkt.zip.\n",
      "[nltk_data] Downloading package wordnet to /root/nltk_data...\n",
      "[nltk_data]   Unzipping corpora/wordnet.zip.\n",
      "[nltk_data] Downloading package stopwords to /root/nltk_data...\n",
      "[nltk_data]   Unzipping corpora/stopwords.zip.\n"
     ]
    },
    {
     "data": {
      "text/plain": [
       "True"
      ]
     },
     "execution_count": 8,
     "metadata": {
      "tags": []
     },
     "output_type": "execute_result"
    }
   ],
   "source": [
    "nltk.download('punkt')\n",
    "nltk.download('wordnet')\n",
    "nltk.download('stopwords')"
   ]
  },
  {
   "cell_type": "code",
   "execution_count": 0,
   "metadata": {
    "colab": {},
    "colab_type": "code",
    "id": "fdZMV8XFyXfL"
   },
   "outputs": [],
   "source": [
    "import nltk\n",
    "from nltk import sent_tokenize, word_tokenize\n",
    "from nltk.corpus import stopwords\n",
    "import re\n",
    "import string"
   ]
  },
  {
   "cell_type": "code",
   "execution_count": 0,
   "metadata": {
    "colab": {},
    "colab_type": "code",
    "id": "s8NMX7sJBFWa"
   },
   "outputs": [],
   "source": [
    "# Display full output rather than just the last line of output\n",
    "from IPython.core.interactiveshell import InteractiveShell\n",
    "InteractiveShell.ast_node_interactivity = \"all\""
   ]
  },
  {
   "cell_type": "code",
   "execution_count": 0,
   "metadata": {
    "colab": {},
    "colab_type": "code",
    "id": "wVHdxlF4hPFH"
   },
   "outputs": [],
   "source": [
    "# Load dataset\n",
    "import pandas as pd\n",
    "\n",
    "indian = pd.read_csv(\"/content/data_indian (1).csv\")\n",
    "indian['label'] = 'indian'\n",
    "italian = pd.read_csv(\"/content/data_italian.csv\")\n",
    "italian['label'] = 'italian'\n",
    "mexican = pd.read_csv(\"/content/data_mexican.csv\")\n",
    "mexican['label'] = 'mexican'"
   ]
  },
  {
   "cell_type": "code",
   "execution_count": 32,
   "metadata": {
    "colab": {
     "base_uri": "https://localhost:8080/",
     "height": 34
    },
    "colab_type": "code",
    "id": "y8EKQi2Ugcpg",
    "outputId": "b3dad31e-16ff-445f-afaf-e3511f8a7d5a"
   },
   "outputs": [
    {
     "data": {
      "text/plain": [
       "480"
      ]
     },
     "execution_count": 32,
     "metadata": {
      "tags": []
     },
     "output_type": "execute_result"
    },
    {
     "data": {
      "text/plain": [
       "620"
      ]
     },
     "execution_count": 32,
     "metadata": {
      "tags": []
     },
     "output_type": "execute_result"
    },
    {
     "data": {
      "text/plain": [
       "400"
      ]
     },
     "execution_count": 32,
     "metadata": {
      "tags": []
     },
     "output_type": "execute_result"
    }
   ],
   "source": [
    "len(indian)\n",
    "len(mexican)\n",
    "len(italian)"
   ]
  },
  {
   "cell_type": "code",
   "execution_count": 33,
   "metadata": {
    "colab": {
     "base_uri": "https://localhost:8080/",
     "height": 419
    },
    "colab_type": "code",
    "id": "iYDYOIHqqi3z",
    "outputId": "3e189a84-3781-4eb2-9914-e55a154f4a50"
   },
   "outputs": [
    {
     "data": {
      "text/html": [
       "<div>\n",
       "<style scoped>\n",
       "    .dataframe tbody tr th:only-of-type {\n",
       "        vertical-align: middle;\n",
       "    }\n",
       "\n",
       "    .dataframe tbody tr th {\n",
       "        vertical-align: top;\n",
       "    }\n",
       "\n",
       "    .dataframe thead th {\n",
       "        text-align: right;\n",
       "    }\n",
       "</style>\n",
       "<table border=\"1\" class=\"dataframe\">\n",
       "  <thead>\n",
       "    <tr style=\"text-align: right;\">\n",
       "      <th></th>\n",
       "      <th>Title</th>\n",
       "      <th>Description</th>\n",
       "      <th>label</th>\n",
       "    </tr>\n",
       "  </thead>\n",
       "  <tbody>\n",
       "    <tr>\n",
       "      <th>0</th>\n",
       "      <td>Indian Peanut Stew</td>\n",
       "      <td>This is an easy, authentic dish from South Asi...</td>\n",
       "      <td>indian</td>\n",
       "    </tr>\n",
       "    <tr>\n",
       "      <th>1</th>\n",
       "      <td>Roomali Roti</td>\n",
       "      <td>There is no leavening in this simple, tender I...</td>\n",
       "      <td>indian</td>\n",
       "    </tr>\n",
       "    <tr>\n",
       "      <th>2</th>\n",
       "      <td>Spicy Sweet Potato Salad</td>\n",
       "      <td>It's important to use good mayonnaise in this ...</td>\n",
       "      <td>indian</td>\n",
       "    </tr>\n",
       "    <tr>\n",
       "      <th>3</th>\n",
       "      <td>Chicken Saag</td>\n",
       "      <td>The classic Indian chicken and spinach dish ge...</td>\n",
       "      <td>indian</td>\n",
       "    </tr>\n",
       "    <tr>\n",
       "      <th>4</th>\n",
       "      <td>Paleo Slow Cooker Pork Loin</td>\n",
       "      <td>Boneless pork loin slowly cooks in a curried f...</td>\n",
       "      <td>indian</td>\n",
       "    </tr>\n",
       "    <tr>\n",
       "      <th>...</th>\n",
       "      <td>...</td>\n",
       "      <td>...</td>\n",
       "      <td>...</td>\n",
       "    </tr>\n",
       "    <tr>\n",
       "      <th>1495</th>\n",
       "      <td>Taco Stew</td>\n",
       "      <td>Ground beef and onions sauteed with a packet o...</td>\n",
       "      <td>mexican</td>\n",
       "    </tr>\n",
       "    <tr>\n",
       "      <th>1496</th>\n",
       "      <td>Chicken Tortilla Soup in the Slow Cooker</td>\n",
       "      <td>Everyone loves using their slow cooker to make...</td>\n",
       "      <td>mexican</td>\n",
       "    </tr>\n",
       "    <tr>\n",
       "      <th>1497</th>\n",
       "      <td>Bountiful Garden Zucchini Enchiladas</td>\n",
       "      <td>Fresh zucchini and Monterey Jack cheese filled...</td>\n",
       "      <td>mexican</td>\n",
       "    </tr>\n",
       "    <tr>\n",
       "      <th>1498</th>\n",
       "      <td>Bean and Honey Burrito Casserole</td>\n",
       "      <td>Here's a great way to feed burritos to a crowd...</td>\n",
       "      <td>mexican</td>\n",
       "    </tr>\n",
       "    <tr>\n",
       "      <th>1499</th>\n",
       "      <td>Green Chile Chicken Stew</td>\n",
       "      <td>This stew will keep you warm and cozy on those...</td>\n",
       "      <td>mexican</td>\n",
       "    </tr>\n",
       "  </tbody>\n",
       "</table>\n",
       "<p>1500 rows × 3 columns</p>\n",
       "</div>"
      ],
      "text/plain": [
       "                                         Title  ...    label\n",
       "0                           Indian Peanut Stew  ...   indian\n",
       "1                                 Roomali Roti  ...   indian\n",
       "2                     Spicy Sweet Potato Salad  ...   indian\n",
       "3                                 Chicken Saag  ...   indian\n",
       "4                  Paleo Slow Cooker Pork Loin  ...   indian\n",
       "...                                        ...  ...      ...\n",
       "1495                                 Taco Stew  ...  mexican\n",
       "1496  Chicken Tortilla Soup in the Slow Cooker  ...  mexican\n",
       "1497      Bountiful Garden Zucchini Enchiladas  ...  mexican\n",
       "1498          Bean and Honey Burrito Casserole  ...  mexican\n",
       "1499                  Green Chile Chicken Stew  ...  mexican\n",
       "\n",
       "[1500 rows x 3 columns]"
      ]
     },
     "execution_count": 33,
     "metadata": {
      "tags": []
     },
     "output_type": "execute_result"
    }
   ],
   "source": [
    "# Concat them into one dataset\n",
    "recipe = pd.concat([indian, italian, mexican],ignore_index = True)\n",
    "recipe"
   ]
  },
  {
   "cell_type": "code",
   "execution_count": 0,
   "metadata": {
    "colab": {},
    "colab_type": "code",
    "id": "5B5GRAyfhPFS"
   },
   "outputs": [],
   "source": [
    "## Clean dataset"
   ]
  },
  {
   "cell_type": "code",
   "execution_count": 0,
   "metadata": {
    "colab": {},
    "colab_type": "code",
    "id": "BsgxdYe9p-TS"
   },
   "outputs": [],
   "source": [
    "# Clean the dataset\n",
    "# Lowercase\n",
    "recipe = recipe.apply(lambda row: row.str.lower())\n",
    "\n",
    "# Remove digits\n",
    "recipe['Title'] = recipe.apply((lambda row: ''.join([i for i in row['Title'] if not i.isdigit()])),axis = 1)\n",
    "recipe['Description'] = recipe.apply((lambda row: ''.join([i for i in row['Description'] if not i.isdigit()])),axis = 1)\n",
    "\n",
    "# Remove punctuations\n",
    "recipe['Title'] = recipe.apply((lambda row: ''.join([i for i in row['Title'] if i not in string.punctuation])),axis=1)\n",
    "recipe['Description'] = recipe.apply((lambda row: ''.join([i for i in row['Description'] if i not in string.punctuation])),axis=1)\n",
    "\n",
    "# Remove Stopwords\n",
    "stop = stopwords.words('english')\n",
    "recipe['Title'] = recipe['Title'].apply(lambda x: ' '.join([word for word in x.split() if word not in (stop)]))\n",
    "recipe['Description'] = recipe['Description'].apply(lambda x: ' '.join([word for word in x.split() if word not in (stop)]))"
   ]
  },
  {
   "cell_type": "code",
   "execution_count": 36,
   "metadata": {
    "colab": {
     "base_uri": "https://localhost:8080/",
     "height": 204
    },
    "colab_type": "code",
    "id": "rPeGEU8Z5dIZ",
    "outputId": "041dd950-31da-4d14-8634-a668e1831ae1"
   },
   "outputs": [
    {
     "data": {
      "text/html": [
       "<div>\n",
       "<style scoped>\n",
       "    .dataframe tbody tr th:only-of-type {\n",
       "        vertical-align: middle;\n",
       "    }\n",
       "\n",
       "    .dataframe tbody tr th {\n",
       "        vertical-align: top;\n",
       "    }\n",
       "\n",
       "    .dataframe thead th {\n",
       "        text-align: right;\n",
       "    }\n",
       "</style>\n",
       "<table border=\"1\" class=\"dataframe\">\n",
       "  <thead>\n",
       "    <tr style=\"text-align: right;\">\n",
       "      <th></th>\n",
       "      <th>Title</th>\n",
       "      <th>Description</th>\n",
       "      <th>label</th>\n",
       "    </tr>\n",
       "  </thead>\n",
       "  <tbody>\n",
       "    <tr>\n",
       "      <th>0</th>\n",
       "      <td>indian peanut stew</td>\n",
       "      <td>easy authentic dish south asia appeals wide ra...</td>\n",
       "      <td>indian</td>\n",
       "    </tr>\n",
       "    <tr>\n",
       "      <th>1</th>\n",
       "      <td>roomali roti</td>\n",
       "      <td>leavening simple tender indian flatbread bread...</td>\n",
       "      <td>indian</td>\n",
       "    </tr>\n",
       "    <tr>\n",
       "      <th>2</th>\n",
       "      <td>spicy sweet potato salad</td>\n",
       "      <td>important use good mayonnaise recipe let cooke...</td>\n",
       "      <td>indian</td>\n",
       "    </tr>\n",
       "    <tr>\n",
       "      <th>3</th>\n",
       "      <td>chicken saag</td>\n",
       "      <td>classic indian chicken spinach dish gets richn...</td>\n",
       "      <td>indian</td>\n",
       "    </tr>\n",
       "    <tr>\n",
       "      <th>4</th>\n",
       "      <td>paleo slow cooker pork loin</td>\n",
       "      <td>boneless pork loin slowly cooks curried fruit ...</td>\n",
       "      <td>indian</td>\n",
       "    </tr>\n",
       "  </tbody>\n",
       "</table>\n",
       "</div>"
      ],
      "text/plain": [
       "                         Title  ...   label\n",
       "0           indian peanut stew  ...  indian\n",
       "1                 roomali roti  ...  indian\n",
       "2     spicy sweet potato salad  ...  indian\n",
       "3                 chicken saag  ...  indian\n",
       "4  paleo slow cooker pork loin  ...  indian\n",
       "\n",
       "[5 rows x 3 columns]"
      ]
     },
     "execution_count": 36,
     "metadata": {
      "tags": []
     },
     "output_type": "execute_result"
    }
   ],
   "source": [
    "recipe.head()"
   ]
  },
  {
   "cell_type": "code",
   "execution_count": 0,
   "metadata": {
    "colab": {},
    "colab_type": "code",
    "id": "CPs8AWlpSBCh"
   },
   "outputs": [],
   "source": [
    "# The separation of three dataset\n",
    "\n",
    "#new recipe for Indian\n",
    "recipe_ind_new = recipe.loc[recipe['label'] == 'indian']\n",
    "\n",
    "#new recipe for Italian\n",
    "recipe_ita_new = recipe.loc[recipe['label'] == 'italian']\n",
    "\n",
    "#new recipe for Mexican\n",
    "recipe_mex_new = recipe.loc[recipe['label'] == 'mexican']"
   ]
  },
  {
   "cell_type": "code",
   "execution_count": 132,
   "metadata": {
    "colab": {
     "base_uri": "https://localhost:8080/",
     "height": 821
    },
    "colab_type": "code",
    "id": "_TKaHxnikYVd",
    "outputId": "025cd676-e36c-4349-e7ea-5a7eb0c3ff73"
   },
   "outputs": [
    {
     "data": {
      "text/html": [
       "<div>\n",
       "<style scoped>\n",
       "    .dataframe tbody tr th:only-of-type {\n",
       "        vertical-align: middle;\n",
       "    }\n",
       "\n",
       "    .dataframe tbody tr th {\n",
       "        vertical-align: top;\n",
       "    }\n",
       "\n",
       "    .dataframe thead th {\n",
       "        text-align: right;\n",
       "    }\n",
       "</style>\n",
       "<table border=\"1\" class=\"dataframe\">\n",
       "  <thead>\n",
       "    <tr style=\"text-align: right;\">\n",
       "      <th></th>\n",
       "      <th>Title</th>\n",
       "      <th>Description</th>\n",
       "      <th>label</th>\n",
       "    </tr>\n",
       "  </thead>\n",
       "  <tbody>\n",
       "    <tr>\n",
       "      <th>480</th>\n",
       "      <td>california chicken spaghetti</td>\n",
       "      <td>angel hair pasta tossed chicken roma tomatoes ...</td>\n",
       "      <td>italian</td>\n",
       "    </tr>\n",
       "    <tr>\n",
       "      <th>481</th>\n",
       "      <td>parmesan garlic bread</td>\n",
       "      <td>butter style spices blended parmesan cheese ma...</td>\n",
       "      <td>italian</td>\n",
       "    </tr>\n",
       "    <tr>\n",
       "      <th>482</th>\n",
       "      <td>pesto polenta lasagna</td>\n",
       "      <td>sliced polenta layered marinara sauce pesto to...</td>\n",
       "      <td>italian</td>\n",
       "    </tr>\n",
       "    <tr>\n",
       "      <th>483</th>\n",
       "      <td>classic minestrone</td>\n",
       "      <td>traditional minestrone complete leeks zucchini...</td>\n",
       "      <td>italian</td>\n",
       "    </tr>\n",
       "    <tr>\n",
       "      <th>484</th>\n",
       "      <td>rich  sausage potato soup</td>\n",
       "      <td>strips kale cream cooked sausage added final s...</td>\n",
       "      <td>italian</td>\n",
       "    </tr>\n",
       "    <tr>\n",
       "      <th>...</th>\n",
       "      <td>...</td>\n",
       "      <td>...</td>\n",
       "      <td>...</td>\n",
       "    </tr>\n",
       "    <tr>\n",
       "      <th>875</th>\n",
       "      <td>manicotti cheese</td>\n",
       "      <td>stuff hearty tubes cooked manicotti fabulously...</td>\n",
       "      <td>italian</td>\n",
       "    </tr>\n",
       "    <tr>\n",
       "      <th>876</th>\n",
       "      <td>mushroom sauce pasta</td>\n",
       "      <td>mushrooms bell peppers sauteed onions butter p...</td>\n",
       "      <td>italian</td>\n",
       "    </tr>\n",
       "    <tr>\n",
       "      <th>877</th>\n",
       "      <td>hearty  meatball soup</td>\n",
       "      <td>using canned beef broth diced style tomatoes f...</td>\n",
       "      <td>italian</td>\n",
       "    </tr>\n",
       "    <tr>\n",
       "      <th>878</th>\n",
       "      <td>easy vegetarian spinach lasagna</td>\n",
       "      <td>easy vegetarian lasagna filled spinach ricotta...</td>\n",
       "      <td>italian</td>\n",
       "    </tr>\n",
       "    <tr>\n",
       "      <th>879</th>\n",
       "      <td>ham butternut squash spaghetti</td>\n",
       "      <td>smoked ham butternut squash mascarpone cheese ...</td>\n",
       "      <td>italian</td>\n",
       "    </tr>\n",
       "  </tbody>\n",
       "</table>\n",
       "<p>400 rows × 3 columns</p>\n",
       "</div>"
      ],
      "text/plain": [
       "                               Title  ...    label\n",
       "480     california chicken spaghetti  ...  italian\n",
       "481            parmesan garlic bread  ...  italian\n",
       "482            pesto polenta lasagna  ...  italian\n",
       "483               classic minestrone  ...  italian\n",
       "484        rich  sausage potato soup  ...  italian\n",
       "..                               ...  ...      ...\n",
       "875                 manicotti cheese  ...  italian\n",
       "876             mushroom sauce pasta  ...  italian\n",
       "877            hearty  meatball soup  ...  italian\n",
       "878  easy vegetarian spinach lasagna  ...  italian\n",
       "879   ham butternut squash spaghetti  ...  italian\n",
       "\n",
       "[400 rows x 3 columns]"
      ]
     },
     "execution_count": 132,
     "metadata": {
      "tags": []
     },
     "output_type": "execute_result"
    },
    {
     "data": {
      "text/html": [
       "<div>\n",
       "<style scoped>\n",
       "    .dataframe tbody tr th:only-of-type {\n",
       "        vertical-align: middle;\n",
       "    }\n",
       "\n",
       "    .dataframe tbody tr th {\n",
       "        vertical-align: top;\n",
       "    }\n",
       "\n",
       "    .dataframe thead th {\n",
       "        text-align: right;\n",
       "    }\n",
       "</style>\n",
       "<table border=\"1\" class=\"dataframe\">\n",
       "  <thead>\n",
       "    <tr style=\"text-align: right;\">\n",
       "      <th></th>\n",
       "      <th>Title</th>\n",
       "      <th>Description</th>\n",
       "      <th>label</th>\n",
       "    </tr>\n",
       "  </thead>\n",
       "  <tbody>\n",
       "    <tr>\n",
       "      <th>880</th>\n",
       "      <td>chicken tortilla soup v</td>\n",
       "      <td>lemon juice brightens flavors chicken corn sal...</td>\n",
       "      <td>mexican</td>\n",
       "    </tr>\n",
       "    <tr>\n",
       "      <th>881</th>\n",
       "      <td>slow cooker taco soup</td>\n",
       "      <td>browned ground beef seasoned package taco seas...</td>\n",
       "      <td>mexican</td>\n",
       "    </tr>\n",
       "    <tr>\n",
       "      <th>882</th>\n",
       "      <td>delicious black bean burritos</td>\n",
       "      <td>onions bell peppers jalapenos heated skillet b...</td>\n",
       "      <td>mexican</td>\n",
       "    </tr>\n",
       "    <tr>\n",
       "      <th>883</th>\n",
       "      <td>black bean salsa soup</td>\n",
       "      <td>black beans salsa veggie broth cumin tossed bl...</td>\n",
       "      <td>mexican</td>\n",
       "    </tr>\n",
       "    <tr>\n",
       "      <th>884</th>\n",
       "      <td>slow cooker carnitas</td>\n",
       "      <td>pork simmered broth seasonings makes great fil...</td>\n",
       "      <td>mexican</td>\n",
       "    </tr>\n",
       "    <tr>\n",
       "      <th>...</th>\n",
       "      <td>...</td>\n",
       "      <td>...</td>\n",
       "      <td>...</td>\n",
       "    </tr>\n",
       "    <tr>\n",
       "      <th>1495</th>\n",
       "      <td>taco stew</td>\n",
       "      <td>ground beef onions sauteed packet taco seasoni...</td>\n",
       "      <td>mexican</td>\n",
       "    </tr>\n",
       "    <tr>\n",
       "      <th>1496</th>\n",
       "      <td>chicken tortilla soup slow cooker</td>\n",
       "      <td>everyone loves using slow cooker make deliciou...</td>\n",
       "      <td>mexican</td>\n",
       "    </tr>\n",
       "    <tr>\n",
       "      <th>1497</th>\n",
       "      <td>bountiful garden zucchini enchiladas</td>\n",
       "      <td>fresh zucchini monterey jack cheese filled enc...</td>\n",
       "      <td>mexican</td>\n",
       "    </tr>\n",
       "    <tr>\n",
       "      <th>1498</th>\n",
       "      <td>bean honey burrito casserole</td>\n",
       "      <td>heres great way feed burritos crowd layer chic...</td>\n",
       "      <td>mexican</td>\n",
       "    </tr>\n",
       "    <tr>\n",
       "      <th>1499</th>\n",
       "      <td>green chile chicken stew</td>\n",
       "      <td>stew keep warm cozy cold winter days got recip...</td>\n",
       "      <td>mexican</td>\n",
       "    </tr>\n",
       "  </tbody>\n",
       "</table>\n",
       "<p>620 rows × 3 columns</p>\n",
       "</div>"
      ],
      "text/plain": [
       "                                     Title  ...    label\n",
       "880                chicken tortilla soup v  ...  mexican\n",
       "881                  slow cooker taco soup  ...  mexican\n",
       "882          delicious black bean burritos  ...  mexican\n",
       "883                  black bean salsa soup  ...  mexican\n",
       "884                   slow cooker carnitas  ...  mexican\n",
       "...                                    ...  ...      ...\n",
       "1495                             taco stew  ...  mexican\n",
       "1496     chicken tortilla soup slow cooker  ...  mexican\n",
       "1497  bountiful garden zucchini enchiladas  ...  mexican\n",
       "1498          bean honey burrito casserole  ...  mexican\n",
       "1499              green chile chicken stew  ...  mexican\n",
       "\n",
       "[620 rows x 3 columns]"
      ]
     },
     "execution_count": 132,
     "metadata": {
      "tags": []
     },
     "output_type": "execute_result"
    }
   ],
   "source": [
    "# drop some key words for three recipes\n",
    "\n",
    "# drop the indian in indian recipe Description and title\n",
    "#new_ind_T = recipe_ind_new['Title'].str.replace(r\"indian\", \"\").to_frame\n",
    "#new_ind_D = recipe_ind_new['Description'].str.replace(r\"indian\", \"\").to_frame\n",
    "#df_ind_new = pd.concat([new_ind_T,new_ind_D],axis=1,sort=False)\n",
    "#df_ind_new['label'] = 'indian'\n",
    "#df_ind_new\n",
    "\n",
    "# drop the italian in italian recipe Description and title\n",
    "new_ita_T = recipe_ita_new['Title'].str.replace(r\"italian\", \"\")\n",
    "new_ita_D = recipe_ita_new['Description'].str.replace(r\"italian\", \"\")\n",
    "new_ita_T_df = pd.DataFrame(new_ita_T)\n",
    "new_ita_D_df = pd.DataFrame(new_ita_D)\n",
    "df_ita_new = pd.concat([df_title_ita_T,df_title_ita_D],axis=1,sort=False)\n",
    "df_ita_new['label'] = 'italian'\n",
    "df_ita_new\n",
    "\n",
    "# drop the mexican in mexican recipe Description and title\n",
    "new_mex_T = recipe_mex_new['Title'].str.replace(r\"mexican\", \"\")\n",
    "new_mex_D = recipe_mex_new['Description'].str.replace(r\"mexican\", \"\")\n",
    "new_mex_T_df = pd.DataFrame(new_mex_T)\n",
    "new_mex_D_df = pd.DataFrame(new_mex_D)\n",
    "df_mex_new = pd.concat([new_mex_T_df,new_mex_D_df],axis=1,sort=False)\n",
    "df_mex_new['label'] = 'mexican'\n",
    "df_mex_new"
   ]
  },
  {
   "cell_type": "code",
   "execution_count": 133,
   "metadata": {
    "colab": {
     "base_uri": "https://localhost:8080/",
     "height": 916
    },
    "colab_type": "code",
    "id": "fq4Sm3aAd7pM",
    "outputId": "5211e945-0079-4cfa-c453-e95b80a599de"
   },
   "outputs": [
    {
     "data": {
      "text/html": [
       "<div>\n",
       "<style scoped>\n",
       "    .dataframe tbody tr th:only-of-type {\n",
       "        vertical-align: middle;\n",
       "    }\n",
       "\n",
       "    .dataframe tbody tr th {\n",
       "        vertical-align: top;\n",
       "    }\n",
       "\n",
       "    .dataframe thead th {\n",
       "        text-align: right;\n",
       "    }\n",
       "</style>\n",
       "<table border=\"1\" class=\"dataframe\">\n",
       "  <thead>\n",
       "    <tr style=\"text-align: right;\">\n",
       "      <th></th>\n",
       "      <th>Title</th>\n",
       "      <th>Description</th>\n",
       "      <th>label</th>\n",
       "    </tr>\n",
       "  </thead>\n",
       "  <tbody>\n",
       "    <tr>\n",
       "      <th>880</th>\n",
       "      <td>chicken tortilla soup v</td>\n",
       "      <td>lemon juice brightens flavors chicken corn sal...</td>\n",
       "      <td>mexican</td>\n",
       "    </tr>\n",
       "    <tr>\n",
       "      <th>881</th>\n",
       "      <td>slow cooker taco soup</td>\n",
       "      <td>browned ground beef seasoned package taco seas...</td>\n",
       "      <td>mexican</td>\n",
       "    </tr>\n",
       "    <tr>\n",
       "      <th>882</th>\n",
       "      <td>delicious black bean burritos</td>\n",
       "      <td>onions bell peppers jalapenos heated skillet b...</td>\n",
       "      <td>mexican</td>\n",
       "    </tr>\n",
       "    <tr>\n",
       "      <th>883</th>\n",
       "      <td>black bean salsa soup</td>\n",
       "      <td>black beans salsa veggie broth cumin tossed bl...</td>\n",
       "      <td>mexican</td>\n",
       "    </tr>\n",
       "    <tr>\n",
       "      <th>884</th>\n",
       "      <td>slow cooker carnitas</td>\n",
       "      <td>pork simmered broth seasonings makes great fil...</td>\n",
       "      <td>mexican</td>\n",
       "    </tr>\n",
       "    <tr>\n",
       "      <th>...</th>\n",
       "      <td>...</td>\n",
       "      <td>...</td>\n",
       "      <td>...</td>\n",
       "    </tr>\n",
       "    <tr>\n",
       "      <th>1495</th>\n",
       "      <td>taco stew</td>\n",
       "      <td>ground beef onions sauteed packet taco seasoni...</td>\n",
       "      <td>mexican</td>\n",
       "    </tr>\n",
       "    <tr>\n",
       "      <th>1496</th>\n",
       "      <td>chicken tortilla soup slow cooker</td>\n",
       "      <td>everyone loves using slow cooker make deliciou...</td>\n",
       "      <td>mexican</td>\n",
       "    </tr>\n",
       "    <tr>\n",
       "      <th>1497</th>\n",
       "      <td>bountiful garden zucchini enchiladas</td>\n",
       "      <td>fresh zucchini monterey jack cheese filled enc...</td>\n",
       "      <td>mexican</td>\n",
       "    </tr>\n",
       "    <tr>\n",
       "      <th>1498</th>\n",
       "      <td>bean honey burrito casserole</td>\n",
       "      <td>heres great way feed burritos crowd layer chic...</td>\n",
       "      <td>mexican</td>\n",
       "    </tr>\n",
       "    <tr>\n",
       "      <th>1499</th>\n",
       "      <td>green chile chicken stew</td>\n",
       "      <td>stew keep warm cozy cold winter days got recip...</td>\n",
       "      <td>mexican</td>\n",
       "    </tr>\n",
       "  </tbody>\n",
       "</table>\n",
       "<p>620 rows × 3 columns</p>\n",
       "</div>"
      ],
      "text/plain": [
       "                                     Title  ...    label\n",
       "880                chicken tortilla soup v  ...  mexican\n",
       "881                  slow cooker taco soup  ...  mexican\n",
       "882          delicious black bean burritos  ...  mexican\n",
       "883                  black bean salsa soup  ...  mexican\n",
       "884                   slow cooker carnitas  ...  mexican\n",
       "...                                    ...  ...      ...\n",
       "1495                             taco stew  ...  mexican\n",
       "1496     chicken tortilla soup slow cooker  ...  mexican\n",
       "1497  bountiful garden zucchini enchiladas  ...  mexican\n",
       "1498          bean honey burrito casserole  ...  mexican\n",
       "1499              green chile chicken stew  ...  mexican\n",
       "\n",
       "[620 rows x 3 columns]"
      ]
     },
     "execution_count": 133,
     "metadata": {
      "tags": []
     },
     "output_type": "execute_result"
    },
    {
     "data": {
      "text/html": [
       "<div>\n",
       "<style scoped>\n",
       "    .dataframe tbody tr th:only-of-type {\n",
       "        vertical-align: middle;\n",
       "    }\n",
       "\n",
       "    .dataframe tbody tr th {\n",
       "        vertical-align: top;\n",
       "    }\n",
       "\n",
       "    .dataframe thead th {\n",
       "        text-align: right;\n",
       "    }\n",
       "</style>\n",
       "<table border=\"1\" class=\"dataframe\">\n",
       "  <thead>\n",
       "    <tr style=\"text-align: right;\">\n",
       "      <th></th>\n",
       "      <th>Mexican</th>\n",
       "      <th>Frequency</th>\n",
       "    </tr>\n",
       "  </thead>\n",
       "  <tbody>\n",
       "    <tr>\n",
       "      <th>0</th>\n",
       "      <td>chicken</td>\n",
       "      <td>118</td>\n",
       "    </tr>\n",
       "    <tr>\n",
       "      <th>1</th>\n",
       "      <td>enchiladas</td>\n",
       "      <td>57</td>\n",
       "    </tr>\n",
       "    <tr>\n",
       "      <th>2</th>\n",
       "      <td>taco</td>\n",
       "      <td>41</td>\n",
       "    </tr>\n",
       "    <tr>\n",
       "      <th>3</th>\n",
       "      <td>soup</td>\n",
       "      <td>39</td>\n",
       "    </tr>\n",
       "    <tr>\n",
       "      <th>4</th>\n",
       "      <td>bean</td>\n",
       "      <td>37</td>\n",
       "    </tr>\n",
       "    <tr>\n",
       "      <th>5</th>\n",
       "      <td>salsa</td>\n",
       "      <td>36</td>\n",
       "    </tr>\n",
       "    <tr>\n",
       "      <th>6</th>\n",
       "      <td>casserole</td>\n",
       "      <td>36</td>\n",
       "    </tr>\n",
       "    <tr>\n",
       "      <th>7</th>\n",
       "      <td>beef</td>\n",
       "      <td>31</td>\n",
       "    </tr>\n",
       "    <tr>\n",
       "      <th>8</th>\n",
       "      <td>rice</td>\n",
       "      <td>30</td>\n",
       "    </tr>\n",
       "    <tr>\n",
       "      <th>9</th>\n",
       "      <td>tacos</td>\n",
       "      <td>30</td>\n",
       "    </tr>\n",
       "    <tr>\n",
       "      <th>10</th>\n",
       "      <td>easy</td>\n",
       "      <td>29</td>\n",
       "    </tr>\n",
       "    <tr>\n",
       "      <th>11</th>\n",
       "      <td>enchilada</td>\n",
       "      <td>27</td>\n",
       "    </tr>\n",
       "    <tr>\n",
       "      <th>12</th>\n",
       "      <td>dip</td>\n",
       "      <td>27</td>\n",
       "    </tr>\n",
       "    <tr>\n",
       "      <th>13</th>\n",
       "      <td>ii</td>\n",
       "      <td>26</td>\n",
       "    </tr>\n",
       "    <tr>\n",
       "      <th>14</th>\n",
       "      <td>corn</td>\n",
       "      <td>25</td>\n",
       "    </tr>\n",
       "  </tbody>\n",
       "</table>\n",
       "</div>"
      ],
      "text/plain": [
       "       Mexican  Frequency\n",
       "0      chicken        118\n",
       "1   enchiladas         57\n",
       "2         taco         41\n",
       "3         soup         39\n",
       "4         bean         37\n",
       "5        salsa         36\n",
       "6    casserole         36\n",
       "7         beef         31\n",
       "8         rice         30\n",
       "9        tacos         30\n",
       "10        easy         29\n",
       "11   enchilada         27\n",
       "12         dip         27\n",
       "13          ii         26\n",
       "14        corn         25"
      ]
     },
     "execution_count": 133,
     "metadata": {
      "tags": []
     },
     "output_type": "execute_result"
    }
   ],
   "source": [
    "df_mex_new\n",
    "top_N = 15\n",
    "title3_1 = df_mex_new.Title.str.cat(sep=' ')\n",
    "words_in_title3_1 = nltk.tokenize.word_tokenize(title3_1)\n",
    "word_dist_title3_1 = nltk.FreqDist(words_in_title3_1)\n",
    "mexi_new_frq = pd.DataFrame(word_dist_title3_1.most_common(top_N),\n",
    "                    columns=['Mexican', 'Frequency'])\n",
    "mexi_new_frq"
   ]
  },
  {
   "cell_type": "markdown",
   "metadata": {
    "colab_type": "text",
    "id": "hOFD7g02CwKl"
   },
   "source": [
    "## Pattern Exploration\n",
    "\n",
    "Before splitting the dataset and writing labelling function,  we might want to first get an idea of how our targetting labels look like. This gives us some basic information of how to start building the labelling function."
   ]
  },
  {
   "cell_type": "code",
   "execution_count": 19,
   "metadata": {
    "colab": {
     "base_uri": "https://localhost:8080/",
     "height": 514
    },
    "colab_type": "code",
    "id": "BgzIrjKY9S9x",
    "outputId": "b4572396-2f77-4ede-a700-3d979a88a2e9"
   },
   "outputs": [
    {
     "data": {
      "text/html": [
       "<div>\n",
       "<style scoped>\n",
       "    .dataframe tbody tr th:only-of-type {\n",
       "        vertical-align: middle;\n",
       "    }\n",
       "\n",
       "    .dataframe tbody tr th {\n",
       "        vertical-align: top;\n",
       "    }\n",
       "\n",
       "    .dataframe thead th {\n",
       "        text-align: right;\n",
       "    }\n",
       "</style>\n",
       "<table border=\"1\" class=\"dataframe\">\n",
       "  <thead>\n",
       "    <tr style=\"text-align: right;\">\n",
       "      <th></th>\n",
       "      <th>Indian</th>\n",
       "      <th>Frequency</th>\n",
       "      <th>Italian</th>\n",
       "      <th>Frequency</th>\n",
       "      <th>Mexican</th>\n",
       "      <th>Frequency</th>\n",
       "    </tr>\n",
       "  </thead>\n",
       "  <tbody>\n",
       "    <tr>\n",
       "      <th>0</th>\n",
       "      <td>chicken</td>\n",
       "      <td>92</td>\n",
       "      <td>italian</td>\n",
       "      <td>76</td>\n",
       "      <td>chicken</td>\n",
       "      <td>118</td>\n",
       "    </tr>\n",
       "    <tr>\n",
       "      <th>1</th>\n",
       "      <td>curry</td>\n",
       "      <td>82</td>\n",
       "      <td>chicken</td>\n",
       "      <td>52</td>\n",
       "      <td>mexican</td>\n",
       "      <td>100</td>\n",
       "    </tr>\n",
       "    <tr>\n",
       "      <th>2</th>\n",
       "      <td>indian</td>\n",
       "      <td>72</td>\n",
       "      <td>pasta</td>\n",
       "      <td>45</td>\n",
       "      <td>enchiladas</td>\n",
       "      <td>57</td>\n",
       "    </tr>\n",
       "    <tr>\n",
       "      <th>3</th>\n",
       "      <td>masala</td>\n",
       "      <td>30</td>\n",
       "      <td>sauce</td>\n",
       "      <td>38</td>\n",
       "      <td>taco</td>\n",
       "      <td>41</td>\n",
       "    </tr>\n",
       "    <tr>\n",
       "      <th>4</th>\n",
       "      <td>rice</td>\n",
       "      <td>28</td>\n",
       "      <td>lasagna</td>\n",
       "      <td>33</td>\n",
       "      <td>soup</td>\n",
       "      <td>39</td>\n",
       "    </tr>\n",
       "    <tr>\n",
       "      <th>5</th>\n",
       "      <td>spicy</td>\n",
       "      <td>25</td>\n",
       "      <td>sausage</td>\n",
       "      <td>23</td>\n",
       "      <td>bean</td>\n",
       "      <td>37</td>\n",
       "    </tr>\n",
       "    <tr>\n",
       "      <th>6</th>\n",
       "      <td>curried</td>\n",
       "      <td>21</td>\n",
       "      <td>pizza</td>\n",
       "      <td>23</td>\n",
       "      <td>salsa</td>\n",
       "      <td>36</td>\n",
       "    </tr>\n",
       "    <tr>\n",
       "      <th>7</th>\n",
       "      <td>paneer</td>\n",
       "      <td>20</td>\n",
       "      <td>ii</td>\n",
       "      <td>23</td>\n",
       "      <td>casserole</td>\n",
       "      <td>36</td>\n",
       "    </tr>\n",
       "    <tr>\n",
       "      <th>8</th>\n",
       "      <td>chutney</td>\n",
       "      <td>20</td>\n",
       "      <td>spaghetti</td>\n",
       "      <td>19</td>\n",
       "      <td>beef</td>\n",
       "      <td>31</td>\n",
       "    </tr>\n",
       "    <tr>\n",
       "      <th>9</th>\n",
       "      <td>soup</td>\n",
       "      <td>20</td>\n",
       "      <td>bread</td>\n",
       "      <td>18</td>\n",
       "      <td>rice</td>\n",
       "      <td>30</td>\n",
       "    </tr>\n",
       "    <tr>\n",
       "      <th>10</th>\n",
       "      <td>salad</td>\n",
       "      <td>19</td>\n",
       "      <td>cheese</td>\n",
       "      <td>17</td>\n",
       "      <td>tacos</td>\n",
       "      <td>30</td>\n",
       "    </tr>\n",
       "    <tr>\n",
       "      <th>11</th>\n",
       "      <td>easy</td>\n",
       "      <td>19</td>\n",
       "      <td>soup</td>\n",
       "      <td>16</td>\n",
       "      <td>easy</td>\n",
       "      <td>29</td>\n",
       "    </tr>\n",
       "    <tr>\n",
       "      <th>12</th>\n",
       "      <td>lamb</td>\n",
       "      <td>17</td>\n",
       "      <td>tomato</td>\n",
       "      <td>16</td>\n",
       "      <td>enchilada</td>\n",
       "      <td>27</td>\n",
       "    </tr>\n",
       "    <tr>\n",
       "      <th>13</th>\n",
       "      <td>tomato</td>\n",
       "      <td>17</td>\n",
       "      <td>salad</td>\n",
       "      <td>13</td>\n",
       "      <td>dip</td>\n",
       "      <td>27</td>\n",
       "    </tr>\n",
       "    <tr>\n",
       "      <th>14</th>\n",
       "      <td>potato</td>\n",
       "      <td>16</td>\n",
       "      <td>easy</td>\n",
       "      <td>12</td>\n",
       "      <td>ii</td>\n",
       "      <td>26</td>\n",
       "    </tr>\n",
       "  </tbody>\n",
       "</table>\n",
       "</div>"
      ],
      "text/plain": [
       "     Indian  Frequency    Italian  Frequency     Mexican  Frequency\n",
       "0   chicken         92    italian         76     chicken        118\n",
       "1     curry         82    chicken         52     mexican        100\n",
       "2    indian         72      pasta         45  enchiladas         57\n",
       "3    masala         30      sauce         38        taco         41\n",
       "4      rice         28    lasagna         33        soup         39\n",
       "5     spicy         25    sausage         23        bean         37\n",
       "6   curried         21      pizza         23       salsa         36\n",
       "7    paneer         20         ii         23   casserole         36\n",
       "8   chutney         20  spaghetti         19        beef         31\n",
       "9      soup         20      bread         18        rice         30\n",
       "10    salad         19     cheese         17       tacos         30\n",
       "11     easy         19       soup         16        easy         29\n",
       "12     lamb         17     tomato         16   enchilada         27\n",
       "13   tomato         17      salad         13         dip         27\n",
       "14   potato         16       easy         12          ii         26"
      ]
     },
     "execution_count": 19,
     "metadata": {
      "tags": []
     },
     "output_type": "execute_result"
    }
   ],
   "source": [
    "# Patterns from different recipes\n",
    "\n",
    "# Filter out different recipes\n",
    "recipe_ind = recipe[recipe['label'] == 'indian']\n",
    "recipe_ita = recipe[recipe['label'] == 'italian']\n",
    "recipe_mex = recipe[recipe['label'] == 'mexican']\n",
    "\n",
    "# Word frequency in 'Title'\n",
    "top_N = 15\n",
    "\n",
    "title1 = recipe_ind.Title.str.cat(sep=' ')\n",
    "words_in_title1 = nltk.tokenize.word_tokenize(title1)\n",
    "word_dist_title1 = nltk.FreqDist(words_in_title1)\n",
    "\n",
    "title2 = recipe_ita.Title.str.cat(sep=' ')\n",
    "words_in_title2 = nltk.tokenize.word_tokenize(title2)\n",
    "word_dist_title2 = nltk.FreqDist(words_in_title2)\n",
    "\n",
    "title3 = recipe_mex.Title.str.cat(sep=' ')\n",
    "words_in_title3 = nltk.tokenize.word_tokenize(title3)\n",
    "word_dist_title3 = nltk.FreqDist(words_in_title3)\n",
    "\n",
    "ind_freq = pd.DataFrame(word_dist_title1.most_common(top_N),\n",
    "                    columns=['Indian', 'Frequency'])\n",
    "ita_freq = pd.DataFrame(word_dist_title2.most_common(top_N),\n",
    "                    columns=['Italian', 'Frequency'])\n",
    "mex_freq = pd.DataFrame(word_dist_title3.most_common(top_N),\n",
    "                    columns=['Mexican', 'Frequency'])\n",
    "\n",
    "title_freq = pd.concat([ind_freq,ita_freq,mex_freq],axis = 1)\n",
    "title_freq"
   ]
  },
  {
   "cell_type": "markdown",
   "metadata": {
    "colab_type": "text",
    "id": "gfXHX0H-gcpy"
   },
   "source": [
    "It is easier to find patterns and differences of recipes if we display titles of three recipes together. The same goes for description."
   ]
  },
  {
   "cell_type": "markdown",
   "metadata": {
    "colab_type": "text",
    "id": "5EEimMn1BXzs"
   },
   "source": [
    "**Ideas of building Labelling functions:**\n",
    "\n",
    "- Single word (specific ones), such as curry, masala, paneer and chutney for indian repice. These words can label one type of recipe quite well because of their specialty (they will not appear in other recipes). Except for words included in top 15 frequency list, they must be other special words, which might need go through the whole dataset to find.\n",
    "\n",
    "- Word combos, such as **curry + chicken = indian** :) You might find that chicken are used a lot in both indian and mexican recipe, while a way to label them might be find a **word combos** (function = special word + main ingrediant)."
   ]
  },
  {
   "cell_type": "code",
   "execution_count": 0,
   "metadata": {
    "colab": {
     "base_uri": "https://localhost:8080/",
     "height": 514
    },
    "colab_type": "code",
    "id": "OJXh9l3Lgcpz",
    "outputId": "08a5f0e5-37e2-4e4c-ea38-13d615838d16"
   },
   "outputs": [
    {
     "data": {
      "text/html": [
       "<div>\n",
       "<style scoped>\n",
       "    .dataframe tbody tr th:only-of-type {\n",
       "        vertical-align: middle;\n",
       "    }\n",
       "\n",
       "    .dataframe tbody tr th {\n",
       "        vertical-align: top;\n",
       "    }\n",
       "\n",
       "    .dataframe thead th {\n",
       "        text-align: right;\n",
       "    }\n",
       "</style>\n",
       "<table border=\"1\" class=\"dataframe\">\n",
       "  <thead>\n",
       "    <tr style=\"text-align: right;\">\n",
       "      <th></th>\n",
       "      <th>Ind_description</th>\n",
       "      <th>Frequency</th>\n",
       "      <th>Ita_description</th>\n",
       "      <th>Frequency</th>\n",
       "      <th>Mex_description</th>\n",
       "      <th>Frequency</th>\n",
       "    </tr>\n",
       "  </thead>\n",
       "  <tbody>\n",
       "    <tr>\n",
       "      <th>0</th>\n",
       "      <td>indian</td>\n",
       "      <td>119</td>\n",
       "      <td>italian</td>\n",
       "      <td>79</td>\n",
       "      <td>chicken</td>\n",
       "      <td>126</td>\n",
       "    </tr>\n",
       "    <tr>\n",
       "      <th>1</th>\n",
       "      <td>curry</td>\n",
       "      <td>101</td>\n",
       "      <td>sauce</td>\n",
       "      <td>63</td>\n",
       "      <td>beef</td>\n",
       "      <td>77</td>\n",
       "    </tr>\n",
       "    <tr>\n",
       "      <th>2</th>\n",
       "      <td>dish</td>\n",
       "      <td>83</td>\n",
       "      <td>cheese</td>\n",
       "      <td>61</td>\n",
       "      <td>recipe</td>\n",
       "      <td>77</td>\n",
       "    </tr>\n",
       "    <tr>\n",
       "      <th>3</th>\n",
       "      <td>chicken</td>\n",
       "      <td>80</td>\n",
       "      <td>pasta</td>\n",
       "      <td>51</td>\n",
       "      <td>cheese</td>\n",
       "      <td>76</td>\n",
       "    </tr>\n",
       "    <tr>\n",
       "      <th>4</th>\n",
       "      <td>recipe</td>\n",
       "      <td>61</td>\n",
       "      <td>chicken</td>\n",
       "      <td>49</td>\n",
       "      <td>mexican</td>\n",
       "      <td>69</td>\n",
       "    </tr>\n",
       "    <tr>\n",
       "      <th>5</th>\n",
       "      <td>rice</td>\n",
       "      <td>53</td>\n",
       "      <td>recipe</td>\n",
       "      <td>43</td>\n",
       "      <td>corn</td>\n",
       "      <td>68</td>\n",
       "    </tr>\n",
       "    <tr>\n",
       "      <th>6</th>\n",
       "      <td>spicy</td>\n",
       "      <td>51</td>\n",
       "      <td>easy</td>\n",
       "      <td>41</td>\n",
       "      <td>make</td>\n",
       "      <td>68</td>\n",
       "    </tr>\n",
       "    <tr>\n",
       "      <th>7</th>\n",
       "      <td>spices</td>\n",
       "      <td>50</td>\n",
       "      <td>garlic</td>\n",
       "      <td>36</td>\n",
       "      <td>sauce</td>\n",
       "      <td>64</td>\n",
       "    </tr>\n",
       "    <tr>\n",
       "      <th>8</th>\n",
       "      <td>made</td>\n",
       "      <td>48</td>\n",
       "      <td>tomatoes</td>\n",
       "      <td>35</td>\n",
       "      <td>beans</td>\n",
       "      <td>62</td>\n",
       "    </tr>\n",
       "    <tr>\n",
       "      <th>9</th>\n",
       "      <td>sauce</td>\n",
       "      <td>44</td>\n",
       "      <td>dish</td>\n",
       "      <td>35</td>\n",
       "      <td>salsa</td>\n",
       "      <td>58</td>\n",
       "    </tr>\n",
       "    <tr>\n",
       "      <th>10</th>\n",
       "      <td>easy</td>\n",
       "      <td>41</td>\n",
       "      <td>delicious</td>\n",
       "      <td>35</td>\n",
       "      <td>spicy</td>\n",
       "      <td>53</td>\n",
       "    </tr>\n",
       "    <tr>\n",
       "      <th>11</th>\n",
       "      <td>simmered</td>\n",
       "      <td>39</td>\n",
       "      <td>make</td>\n",
       "      <td>31</td>\n",
       "      <td>tortillas</td>\n",
       "      <td>53</td>\n",
       "    </tr>\n",
       "    <tr>\n",
       "      <th>12</th>\n",
       "      <td>yogurt</td>\n",
       "      <td>36</td>\n",
       "      <td>tomato</td>\n",
       "      <td>31</td>\n",
       "      <td>easy</td>\n",
       "      <td>51</td>\n",
       "    </tr>\n",
       "    <tr>\n",
       "      <th>13</th>\n",
       "      <td>potatoes</td>\n",
       "      <td>35</td>\n",
       "      <td>fresh</td>\n",
       "      <td>29</td>\n",
       "      <td>ground</td>\n",
       "      <td>48</td>\n",
       "    </tr>\n",
       "    <tr>\n",
       "      <th>14</th>\n",
       "      <td>make</td>\n",
       "      <td>35</td>\n",
       "      <td>bread</td>\n",
       "      <td>29</td>\n",
       "      <td>rice</td>\n",
       "      <td>47</td>\n",
       "    </tr>\n",
       "  </tbody>\n",
       "</table>\n",
       "</div>"
      ],
      "text/plain": [
       "   Ind_description  Frequency  ... Mex_description  Frequency\n",
       "0           indian        119  ...         chicken        126\n",
       "1            curry        101  ...            beef         77\n",
       "2             dish         83  ...          recipe         77\n",
       "3          chicken         80  ...          cheese         76\n",
       "4           recipe         61  ...         mexican         69\n",
       "5             rice         53  ...            corn         68\n",
       "6            spicy         51  ...            make         68\n",
       "7           spices         50  ...           sauce         64\n",
       "8             made         48  ...           beans         62\n",
       "9            sauce         44  ...           salsa         58\n",
       "10            easy         41  ...           spicy         53\n",
       "11        simmered         39  ...       tortillas         53\n",
       "12          yogurt         36  ...            easy         51\n",
       "13        potatoes         35  ...          ground         48\n",
       "14            make         35  ...            rice         47\n",
       "\n",
       "[15 rows x 6 columns]"
      ]
     },
     "execution_count": 15,
     "metadata": {
      "tags": []
     },
     "output_type": "execute_result"
    }
   ],
   "source": [
    "# Word frequency in 'Description'\n",
    "des1 = recipe_ind.Description.str.cat(sep=' ')\n",
    "words_in_des1 = nltk.tokenize.word_tokenize(des1)\n",
    "word_dist_des1 = nltk.FreqDist(words_in_des1)\n",
    "\n",
    "des2 = recipe_ita.Description.str.cat(sep=' ')\n",
    "words_in_des2 = nltk.tokenize.word_tokenize(des2)\n",
    "word_dist_des2 = nltk.FreqDist(words_in_des2)\n",
    "\n",
    "des3 = recipe_mex.Description.str.cat(sep=' ')\n",
    "words_in_des3 = nltk.tokenize.word_tokenize(des3)\n",
    "word_dist_des3 = nltk.FreqDist(words_in_des3)\n",
    "\n",
    "d1_freq = pd.DataFrame(word_dist_des1.most_common(top_N),\n",
    "                    columns=['Ind_description', 'Frequency'])\n",
    "d2_freq = pd.DataFrame(word_dist_des2.most_common(top_N),\n",
    "                    columns=['Ita_description', 'Frequency'])\n",
    "d3_freq = pd.DataFrame(word_dist_des3.most_common(top_N),\n",
    "                    columns=['Mex_description', 'Frequency'])\n",
    "\n",
    "des_freq = pd.concat([d1_freq,d2_freq,d3_freq],axis=1)\n",
    "des_freq"
   ]
  },
  {
   "cell_type": "markdown",
   "metadata": {
    "colab_type": "text",
    "id": "jMR3pVrwgcp2"
   },
   "source": [
    "<div class=\"alert alert-success\">\n",
    "\n",
    "As you might have noticed, indian food and mexican food share some similarities, such as spicy-related words, sauce-related words, rice, etc. This is somewhere that we need to keep an eye on.\n",
    "</b>\n"
   ]
  },
  {
   "cell_type": "markdown",
   "metadata": {
    "colab_type": "text",
    "id": "nXbdMtOGEFPi"
   },
   "source": [
    "## Split the dataset\n",
    "\n",
    "As being discussed in group meeting, we split the dataset into training, validation, development and test datasets.\n",
    "\n",
    "If we do multi-labelling, we need to make sure that all datasets above contains same proportion of the 3 recipes. I decided to have 30% labelled data, in which 10% for dev set, 10% for validation set, and the remaining 10% for test set. We left 70% data to training set."
   ]
  },
  {
   "cell_type": "code",
   "execution_count": 0,
   "metadata": {
    "colab": {},
    "colab_type": "code",
    "id": "Agcde9nWCooH"
   },
   "outputs": [],
   "source": [
    "# Split the dataset\n",
    "# Use ShuffleStratifiedSplit to ensure same proportion of each dataset\n",
    "from sklearn.model_selection import StratifiedShuffleSplit\n",
    "sss = StratifiedShuffleSplit(n_splits=3, test_size=0.3, random_state=0)\n",
    "\n",
    "# Get different labelled data\n",
    "ind = recipe[recipe['label'] == 'indian']\n",
    "ind.reset_index(drop=True,inplace=True)\n",
    "ita = recipe[recipe['label'] == 'italian']\n",
    "ita.reset_index(drop=True,inplace=True)\n",
    "mex = recipe[recipe['label'] == 'mexican']\n",
    "mex.reset_index(drop=True,inplace=True)\n",
    "\n",
    "# Split function (leave 70% for training)\n",
    "def shuffle_split(df,sss):\n",
    "  X = df[['Title','Description']]\n",
    "  y = df['label']\n",
    "  for train_index, test_index in sss.split(X, y):\n",
    "    X_train, X_test = X.loc[train_index], X.loc[test_index]\n",
    "    y_train, y_test = y[train_index], y[test_index]\n",
    "    return X_train, X_test, y_train, y_test\n",
    "\n",
    "ind_X_train, ind_X_test, ind_y_train, ind_y_test = shuffle_split(ind,sss)\n",
    "ita_X_train, ita_X_test, ita_y_train, ita_y_test = shuffle_split(ita,sss)\n",
    "mex_X_train, mex_X_test, mex_y_train, mex_y_test = shuffle_split(mex,sss)"
   ]
  },
  {
   "cell_type": "code",
   "execution_count": 0,
   "metadata": {
    "colab": {
     "base_uri": "https://localhost:8080/",
     "height": 68
    },
    "colab_type": "code",
    "id": "6gubRhDAgcp4",
    "outputId": "315165ee-a00e-4255-cc5c-c96c1f905619"
   },
   "outputs": [
    {
     "name": "stdout",
     "output_type": "stream",
     "text": [
      "indian:  336 144\n",
      "italian:  280 120\n",
      "mexican:  434 186\n"
     ]
    }
   ],
   "source": [
    "print('indian: ',len(ind_X_train),len(ind_X_test))\n",
    "print('italian: ',len(ita_X_train),len(ita_X_test))\n",
    "print('mexican: ',len(mex_X_train),len(mex_X_test))"
   ]
  },
  {
   "cell_type": "code",
   "execution_count": 0,
   "metadata": {
    "colab": {},
    "colab_type": "code",
    "id": "-OxgR17ORUlH"
   },
   "outputs": [],
   "source": [
    "# Combine training and test dataset\n",
    "X_train = pd.concat([ind_X_train,ita_X_train,mex_X_train],axis=0)\n",
    "y_train = pd.concat([ind_y_train,ita_y_train,mex_y_train],axis=0)\n",
    "X_test =  pd.concat([ind_X_test,ita_X_test,mex_X_test],axis=0)\n",
    "y_test =  pd.concat([ind_y_test,ita_y_test,mex_y_test],axis=0)"
   ]
  },
  {
   "cell_type": "code",
   "execution_count": 0,
   "metadata": {
    "colab": {},
    "colab_type": "code",
    "id": "iAOI-9TLgcp8"
   },
   "outputs": [],
   "source": [
    "# Combine training dataset\n",
    "train = pd.concat([X_train,y_train],axis=1)"
   ]
  },
  {
   "cell_type": "code",
   "execution_count": 0,
   "metadata": {
    "colab": {},
    "colab_type": "code",
    "id": "9Zc6mVP8gcp-"
   },
   "outputs": [],
   "source": [
    "# Combine the test dataset for next splitting\n",
    "test = pd.concat([X_test,y_test],axis=1)\n",
    "test = test.reset_index(drop=True)"
   ]
  },
  {
   "cell_type": "markdown",
   "metadata": {
    "colab_type": "text",
    "id": "gtBYoagXgcqA"
   },
   "source": [
    "Split development and validation dataset from test dataset."
   ]
  },
  {
   "cell_type": "code",
   "execution_count": 0,
   "metadata": {
    "colab": {},
    "colab_type": "code",
    "id": "1bT5jteegcqA"
   },
   "outputs": [],
   "source": [
    "# From randomly sampled test set get dev set and validation set.\n",
    "\n",
    "ind_val, ind_dev = test[:48], test[48:96]\n",
    "ita_val, ita_dev = test[144:184], test[184:224]\n",
    "mex_val, mex_dev = test[264:326], test[326:388]\n",
    "ind_test, ita_test, mex_test = test[96:144],test[224:264],test[388:450]"
   ]
  },
  {
   "cell_type": "code",
   "execution_count": 0,
   "metadata": {
    "colab": {},
    "colab_type": "code",
    "id": "OkL7dmVfgcqC"
   },
   "outputs": [],
   "source": [
    "# Combine val, dev and test set\n",
    "\n",
    "val = pd.concat([ind_val,ita_val,mex_val],axis=0)\n",
    "dev = pd.concat([ind_dev,ita_dev,mex_dev],axis=0)\n",
    "test_n = pd.concat([ind_test,ita_test,mex_test],axis=0)"
   ]
  },
  {
   "cell_type": "markdown",
   "metadata": {
    "colab_type": "text",
    "id": "vAGvuMrFgcqD"
   },
   "source": [
    "As we split the dataset by different countries, we need to shuffle them before training."
   ]
  },
  {
   "cell_type": "code",
   "execution_count": 0,
   "metadata": {
    "colab": {},
    "colab_type": "code",
    "id": "kosR2AgkgcqE"
   },
   "outputs": [],
   "source": [
    "from sklearn.utils import shuffle\n",
    "train = shuffle(train, random_state = 42)\n",
    "test = shuffle(test_n, random_state = 42)\n",
    "val = shuffle(val, random_state = 42)\n",
    "dev = shuffle(dev, random_state = 42)"
   ]
  },
  {
   "cell_type": "markdown",
   "metadata": {
    "colab_type": "text",
    "id": "QANWCLRQgcqG"
   },
   "source": [
    "To apply LFAnalysis, we need to change labels to number."
   ]
  },
  {
   "cell_type": "code",
   "execution_count": 0,
   "metadata": {
    "colab": {},
    "colab_type": "code",
    "id": "ZjD-afNsgcqH"
   },
   "outputs": [],
   "source": [
    "# Change labels to number\n",
    "def label_to_num(df):\n",
    "    df.label = df.label.apply(lambda x: 0 if x == 'indian' else(1 if x == 'italian' else 2))\n",
    "    return df\n",
    "    \n",
    "test_n = label_to_num(test_n)\n",
    "val = label_to_num(val)\n",
    "dev = label_to_num(dev)"
   ]
  },
  {
   "cell_type": "code",
   "execution_count": 0,
   "metadata": {
    "colab": {},
    "colab_type": "code",
    "id": "Yd8W7OENgcqI"
   },
   "outputs": [],
   "source": [
    "# Prepare for later training\n",
    "df_train = train.iloc[:,:2]\n",
    "df_val = val.iloc[:,:2]\n",
    "df_dev = dev.iloc[:,:2]\n",
    "Y_val = val.iloc[:,-1].values\n",
    "Y_dev = dev.iloc[:,-1].values"
   ]
  },
  {
   "cell_type": "markdown",
   "metadata": {
    "colab_type": "text",
    "id": "mLrKC6HvgcqK"
   },
   "source": [
    "# Labelling functions"
   ]
  },
  {
   "cell_type": "code",
   "execution_count": 0,
   "metadata": {
    "colab": {},
    "colab_type": "code",
    "id": "teLVGuwGgcqL"
   },
   "outputs": [],
   "source": [
    "from snorkel.labeling import labeling_function"
   ]
  },
  {
   "cell_type": "code",
   "execution_count": 0,
   "metadata": {
    "colab": {},
    "colab_type": "code",
    "id": "ijzvkLOigcqM"
   },
   "outputs": [],
   "source": [
    "# For clarity, we define constants to represent the class labels and abstaining.\n",
    "ABSTAIN = -1\n",
    "INDIAN = 0\n",
    "ITALIAN = 1\n",
    "MEXICAN = 2"
   ]
  },
  {
   "cell_type": "markdown",
   "metadata": {
    "colab_type": "text",
    "id": "ZkDJHO8UgcqO"
   },
   "source": [
    "## Keywords LFs"
   ]
  },
  {
   "cell_type": "code",
   "execution_count": 0,
   "metadata": {
    "colab": {},
    "colab_type": "code",
    "id": "IMeOvEJogcqQ"
   },
   "outputs": [],
   "source": [
    "ind_keywords = ['curry','indian','masala','paneer','chutney']\n",
    "\n",
    "@labeling_function()\n",
    "def indian_keywords(x):\n",
    "        if any(word in x.Title for word in ind_keywords):\n",
    "            return INDIAN\n",
    "        else:\n",
    "            return ABSTAIN"
   ]
  },
  {
   "cell_type": "code",
   "execution_count": 0,
   "metadata": {
    "colab": {},
    "colab_type": "code",
    "id": "ohIc2yvTgcqS"
   },
   "outputs": [],
   "source": [
    "import re\n",
    "\n",
    "@labeling_function()\n",
    "def curchicken(x):\n",
    "    return INDIAN if re.search(r\"curry.*chicken\", x.Description, flags=re.I) else ABSTAIN"
   ]
  },
  {
   "cell_type": "code",
   "execution_count": 0,
   "metadata": {
    "colab": {
     "base_uri": "https://localhost:8080/",
     "height": 51
    },
    "colab_type": "code",
    "id": "tQJLB1xugcqU",
    "outputId": "b6f0769d-5ffa-47fb-9186-a4a71b2ba08b"
   },
   "outputs": [
    {
     "name": "stderr",
     "output_type": "stream",
     "text": [
      "100%|██████████| 1050/1050 [00:00<00:00, 10653.04it/s]\n",
      "100%|██████████| 150/150 [00:00<00:00, 9695.87it/s]\n"
     ]
    }
   ],
   "source": [
    "from snorkel.labeling import PandasLFApplier\n",
    "\n",
    "lfs = [indian_keywords, curchicken]\n",
    "\n",
    "applier = PandasLFApplier(lfs=lfs)\n",
    "L_train = applier.apply(df=df_train)\n",
    "L_dev = applier.apply(df=df_dev)"
   ]
  },
  {
   "cell_type": "code",
   "execution_count": 0,
   "metadata": {
    "colab": {
     "base_uri": "https://localhost:8080/",
     "height": 111
    },
    "colab_type": "code",
    "id": "UCmijzFKgcqW",
    "outputId": "1afa5e44-2773-480a-9376-1427fd39e512"
   },
   "outputs": [
    {
     "data": {
      "text/html": [
       "<div>\n",
       "<style scoped>\n",
       "    .dataframe tbody tr th:only-of-type {\n",
       "        vertical-align: middle;\n",
       "    }\n",
       "\n",
       "    .dataframe tbody tr th {\n",
       "        vertical-align: top;\n",
       "    }\n",
       "\n",
       "    .dataframe thead th {\n",
       "        text-align: right;\n",
       "    }\n",
       "</style>\n",
       "<table border=\"1\" class=\"dataframe\">\n",
       "  <thead>\n",
       "    <tr style=\"text-align: right;\">\n",
       "      <th></th>\n",
       "      <th>j</th>\n",
       "      <th>Polarity</th>\n",
       "      <th>Coverage</th>\n",
       "      <th>Overlaps</th>\n",
       "      <th>Conflicts</th>\n",
       "    </tr>\n",
       "  </thead>\n",
       "  <tbody>\n",
       "    <tr>\n",
       "      <th>indian_keywords</th>\n",
       "      <td>0</td>\n",
       "      <td>[0]</td>\n",
       "      <td>0.144762</td>\n",
       "      <td>0.00381</td>\n",
       "      <td>0.0</td>\n",
       "    </tr>\n",
       "    <tr>\n",
       "      <th>curchicken</th>\n",
       "      <td>1</td>\n",
       "      <td>[0]</td>\n",
       "      <td>0.004762</td>\n",
       "      <td>0.00381</td>\n",
       "      <td>0.0</td>\n",
       "    </tr>\n",
       "  </tbody>\n",
       "</table>\n",
       "</div>"
      ],
      "text/plain": [
       "                 j Polarity  Coverage  Overlaps  Conflicts\n",
       "indian_keywords  0      [0]  0.144762   0.00381        0.0\n",
       "curchicken       1      [0]  0.004762   0.00381        0.0"
      ]
     },
     "execution_count": 31,
     "metadata": {
      "tags": []
     },
     "output_type": "execute_result"
    }
   ],
   "source": [
    "from snorkel.labeling import LFAnalysis\n",
    "\n",
    "LFAnalysis(L=L_train, lfs=lfs).lf_summary()"
   ]
  },
  {
   "cell_type": "code",
   "execution_count": 0,
   "metadata": {
    "colab": {
     "base_uri": "https://localhost:8080/",
     "height": 136
    },
    "colab_type": "code",
    "id": "BurRydgigcqY",
    "outputId": "35eacc05-744e-4a04-d946-663a47838abf",
    "scrolled": false
   },
   "outputs": [
    {
     "data": {
      "text/plain": [
       "array([1, 0, 2, 1, 1, 0, 1, 2, 1, 1, 2, 0, 0, 0, 0, 1, 2, 1, 1, 2, 0, 2,\n",
       "       0, 2, 2, 2, 2, 2, 0, 0, 0, 0, 1, 0, 0, 2, 1, 0, 0, 0, 2, 1, 1, 0,\n",
       "       0, 1, 2, 2, 1, 2, 2, 2, 1, 0, 2, 1, 0, 0, 0, 1, 2, 0, 0, 0, 2, 0,\n",
       "       2, 2, 0, 2, 2, 0, 2, 2, 1, 1, 2, 1, 0, 2, 2, 1, 0, 1, 1, 0, 2, 0,\n",
       "       0, 1, 2, 2, 1, 2, 2, 2, 0, 0, 2, 2, 0, 0, 0, 1, 2, 0, 2, 2, 0, 1,\n",
       "       1, 2, 1, 2, 0, 2, 1, 2, 1, 1, 2, 0, 1, 2, 1, 2, 2, 2, 0, 1, 2, 2,\n",
       "       0, 2, 0, 1, 2, 2, 2, 2, 1, 1, 2, 2, 0, 1, 2, 0, 2, 2])"
      ]
     },
     "execution_count": 32,
     "metadata": {
      "tags": []
     },
     "output_type": "execute_result"
    }
   ],
   "source": [
    "Y_dev"
   ]
  },
  {
   "cell_type": "code",
   "execution_count": 0,
   "metadata": {
    "colab": {
     "base_uri": "https://localhost:8080/",
     "height": 111
    },
    "colab_type": "code",
    "id": "hURjE3xygcqa",
    "outputId": "26bae44f-8ec0-433b-9702-e255f01069d1"
   },
   "outputs": [
    {
     "data": {
      "text/html": [
       "<div>\n",
       "<style scoped>\n",
       "    .dataframe tbody tr th:only-of-type {\n",
       "        vertical-align: middle;\n",
       "    }\n",
       "\n",
       "    .dataframe tbody tr th {\n",
       "        vertical-align: top;\n",
       "    }\n",
       "\n",
       "    .dataframe thead th {\n",
       "        text-align: right;\n",
       "    }\n",
       "</style>\n",
       "<table border=\"1\" class=\"dataframe\">\n",
       "  <thead>\n",
       "    <tr style=\"text-align: right;\">\n",
       "      <th></th>\n",
       "      <th>j</th>\n",
       "      <th>Polarity</th>\n",
       "      <th>Coverage</th>\n",
       "      <th>Overlaps</th>\n",
       "      <th>Conflicts</th>\n",
       "      <th>Correct</th>\n",
       "      <th>Incorrect</th>\n",
       "      <th>Emp. Acc.</th>\n",
       "    </tr>\n",
       "  </thead>\n",
       "  <tbody>\n",
       "    <tr>\n",
       "      <th>indian_keywords</th>\n",
       "      <td>0</td>\n",
       "      <td>[0]</td>\n",
       "      <td>0.12</td>\n",
       "      <td>0.0</td>\n",
       "      <td>0.0</td>\n",
       "      <td>18</td>\n",
       "      <td>0</td>\n",
       "      <td>1.0</td>\n",
       "    </tr>\n",
       "    <tr>\n",
       "      <th>curchicken</th>\n",
       "      <td>1</td>\n",
       "      <td>[]</td>\n",
       "      <td>0.00</td>\n",
       "      <td>0.0</td>\n",
       "      <td>0.0</td>\n",
       "      <td>0</td>\n",
       "      <td>0</td>\n",
       "      <td>0.0</td>\n",
       "    </tr>\n",
       "  </tbody>\n",
       "</table>\n",
       "</div>"
      ],
      "text/plain": [
       "                 j Polarity  Coverage  ...  Correct  Incorrect  Emp. Acc.\n",
       "indian_keywords  0      [0]      0.12  ...       18          0        1.0\n",
       "curchicken       1       []      0.00  ...        0          0        0.0\n",
       "\n",
       "[2 rows x 8 columns]"
      ]
     },
     "execution_count": 33,
     "metadata": {
      "tags": []
     },
     "output_type": "execute_result"
    }
   ],
   "source": [
    "LFAnalysis(L=L_dev, lfs=lfs).lf_summary(Y=Y_dev)"
   ]
  },
  {
   "cell_type": "markdown",
   "metadata": {
    "colab_type": "text",
    "id": "7DqMIEFqKclI"
   },
   "source": [
    "# Slicingg functions"
   ]
  },
  {
   "cell_type": "code",
   "execution_count": 0,
   "metadata": {
    "colab": {},
    "colab_type": "code",
    "id": "APBeUO_qjSuo"
   },
   "outputs": [],
   "source": []
  },
  {
   "cell_type": "code",
   "execution_count": 0,
   "metadata": {
    "colab": {},
    "colab_type": "code",
    "id": "CXiIf_6LKmOt"
   },
   "outputs": [],
   "source": [
    "import re\n",
    "from snorkel.slicing import slicing_function"
   ]
  },
  {
   "cell_type": "code",
   "execution_count": 0,
   "metadata": {
    "colab": {},
    "colab_type": "code",
    "id": "ey23pXWjf0MK"
   },
   "outputs": [],
   "source": [
    "ind_keywords = ['curry','indian','masala','paneer','chutney']\n",
    "\n",
    "@slicing_function()\n",
    "def indian_keywords_sf(x):\n",
    "        if any(word in x.Title for word in ind_keywords):\n",
    "            return INDIAN\n",
    "        else:\n",
    "            return ABSTAIN\n",
    "indsf = [indian_keywords_sf]"
   ]
  },
  {
   "cell_type": "code",
   "execution_count": 0,
   "metadata": {
    "colab": {},
    "colab_type": "code",
    "id": "rA_n4zMag1VI"
   },
   "outputs": [],
   "source": [
    "@slicing_function()\n",
    "def curchicken_sf(x):\n",
    "    return INDIAN if re.search(r\"curry.*chicken\", x.Description, flags=re.I) else ABSTAIN\n",
    "\n",
    "curcsf = [curchicken_sf]"
   ]
  },
  {
   "cell_type": "code",
   "execution_count": 0,
   "metadata": {
    "colab": {
     "base_uri": "https://localhost:8080/",
     "height": 51
    },
    "colab_type": "code",
    "id": "V7hLPYRxfzJX",
    "outputId": "104182fa-2902-4f9c-b69e-6ca1d8f80d20"
   },
   "outputs": [
    {
     "name": "stderr",
     "output_type": "stream",
     "text": [
      "100%|██████████| 450/450 [00:00<00:00, 8963.21it/s]\n",
      "100%|██████████| 450/450 [00:00<00:00, 23002.93it/s]\n"
     ]
    }
   ],
   "source": [
    "from snorkel.slicing import slice_dataframe\n",
    "indsf_df = slice_dataframe(X_test, indian_keywords_sf)\n",
    "cursf_df = slice_dataframe(X_test, curchicken_sf)"
   ]
  },
  {
   "cell_type": "code",
   "execution_count": 0,
   "metadata": {
    "colab": {
     "base_uri": "https://localhost:8080/",
     "height": 419
    },
    "colab_type": "code",
    "id": "7xnARnl1iQPJ",
    "outputId": "fa9b91ac-478d-4dc2-b659-97bbb0170166"
   },
   "outputs": [
    {
     "data": {
      "text/html": [
       "<div>\n",
       "<style scoped>\n",
       "    .dataframe tbody tr th:only-of-type {\n",
       "        vertical-align: middle;\n",
       "    }\n",
       "\n",
       "    .dataframe tbody tr th {\n",
       "        vertical-align: top;\n",
       "    }\n",
       "\n",
       "    .dataframe thead th {\n",
       "        text-align: right;\n",
       "    }\n",
       "</style>\n",
       "<table border=\"1\" class=\"dataframe\">\n",
       "  <thead>\n",
       "    <tr style=\"text-align: right;\">\n",
       "      <th></th>\n",
       "      <th>Title</th>\n",
       "      <th>Description</th>\n",
       "    </tr>\n",
       "  </thead>\n",
       "  <tbody>\n",
       "    <tr>\n",
       "      <th>177</th>\n",
       "      <td>biriyani</td>\n",
       "      <td>one wellknown indianpakistani dishes made spic...</td>\n",
       "    </tr>\n",
       "    <tr>\n",
       "      <th>169</th>\n",
       "      <td>cauliflower rice biryanistyle</td>\n",
       "      <td>cauliflower rice seasoned garam masala turmeri...</td>\n",
       "    </tr>\n",
       "    <tr>\n",
       "      <th>373</th>\n",
       "      <td>sago sabudana khichdi</td>\n",
       "      <td>indian snack food made sago traditional favori...</td>\n",
       "    </tr>\n",
       "    <tr>\n",
       "      <th>50</th>\n",
       "      <td>chicken biryani hyderabadi style</td>\n",
       "      <td>trademark homecooking southern india luscious ...</td>\n",
       "    </tr>\n",
       "    <tr>\n",
       "      <th>195</th>\n",
       "      <td>spicy swordfish</td>\n",
       "      <td>swordfish chunks simmered mango coconut mixtur...</td>\n",
       "    </tr>\n",
       "    <tr>\n",
       "      <th>...</th>\n",
       "      <td>...</td>\n",
       "      <td>...</td>\n",
       "    </tr>\n",
       "    <tr>\n",
       "      <th>543</th>\n",
       "      <td>mexican beans</td>\n",
       "      <td>wonderful mexican beans serve side dish meal</td>\n",
       "    </tr>\n",
       "    <tr>\n",
       "      <th>547</th>\n",
       "      <td>mexican soup</td>\n",
       "      <td>shredded chicken cuminspiced soup kidney beans...</td>\n",
       "    </tr>\n",
       "    <tr>\n",
       "      <th>605</th>\n",
       "      <td>super easy slow cooker chicken enchilada meat</td>\n",
       "      <td>easy slow cooker recipe delivers tender chicke...</td>\n",
       "    </tr>\n",
       "    <tr>\n",
       "      <th>477</th>\n",
       "      <td>pancho villa baked tilapia</td>\n",
       "      <td>fillet individually seasoned lime fresh cilant...</td>\n",
       "    </tr>\n",
       "    <tr>\n",
       "      <th>490</th>\n",
       "      <td>sopapillas</td>\n",
       "      <td>flat bread easy prepare usually served somethi...</td>\n",
       "    </tr>\n",
       "  </tbody>\n",
       "</table>\n",
       "<p>386 rows × 2 columns</p>\n",
       "</div>"
      ],
      "text/plain": [
       "                                             Title                                        Description\n",
       "177                                       biriyani  one wellknown indianpakistani dishes made spic...\n",
       "169                  cauliflower rice biryanistyle  cauliflower rice seasoned garam masala turmeri...\n",
       "373                          sago sabudana khichdi  indian snack food made sago traditional favori...\n",
       "50                chicken biryani hyderabadi style  trademark homecooking southern india luscious ...\n",
       "195                                spicy swordfish  swordfish chunks simmered mango coconut mixtur...\n",
       "..                                             ...                                                ...\n",
       "543                                  mexican beans       wonderful mexican beans serve side dish meal\n",
       "547                                   mexican soup  shredded chicken cuminspiced soup kidney beans...\n",
       "605  super easy slow cooker chicken enchilada meat  easy slow cooker recipe delivers tender chicke...\n",
       "477                     pancho villa baked tilapia  fillet individually seasoned lime fresh cilant...\n",
       "490                                     sopapillas  flat bread easy prepare usually served somethi...\n",
       "\n",
       "[386 rows x 2 columns]"
      ]
     },
     "execution_count": 52,
     "metadata": {
      "tags": []
     },
     "output_type": "execute_result"
    }
   ],
   "source": [
    "indsf_df"
   ]
  },
  {
   "cell_type": "code",
   "execution_count": 0,
   "metadata": {
    "colab": {
     "base_uri": "https://localhost:8080/",
     "height": 327
    },
    "colab_type": "code",
    "id": "ZE_X8us6gdg9",
    "outputId": "512e26be-31c1-4714-eefc-3e2e4720a51c"
   },
   "outputs": [
    {
     "ename": "KeyError",
     "evalue": "ignored",
     "output_type": "error",
     "traceback": [
      "\u001b[0;31m---------------------------------------------------------------------------\u001b[0m",
      "\u001b[0;31mKeyError\u001b[0m                                  Traceback (most recent call last)",
      "\u001b[0;32m<ipython-input-51-3c0b25bbafb4>\u001b[0m in \u001b[0;36m<module>\u001b[0;34m()\u001b[0m\n\u001b[0;32m----> 1\u001b[0;31m \u001b[0mindsf_df\u001b[0m\u001b[0;34m[\u001b[0m\u001b[0;34m[\u001b[0m\u001b[0;34m\"Title\"\u001b[0m\u001b[0;34m,\u001b[0m\u001b[0;34m'labels'\u001b[0m\u001b[0;34m]\u001b[0m\u001b[0;34m]\u001b[0m\u001b[0;34m.\u001b[0m\u001b[0mhead\u001b[0m\u001b[0;34m(\u001b[0m\u001b[0;34m)\u001b[0m\u001b[0;34m\u001b[0m\u001b[0;34m\u001b[0m\u001b[0m\n\u001b[0m",
      "\u001b[0;32m/usr/local/lib/python3.6/dist-packages/pandas/core/frame.py\u001b[0m in \u001b[0;36m__getitem__\u001b[0;34m(self, key)\u001b[0m\n\u001b[1;32m   2999\u001b[0m             \u001b[0;32mif\u001b[0m \u001b[0mis_iterator\u001b[0m\u001b[0;34m(\u001b[0m\u001b[0mkey\u001b[0m\u001b[0;34m)\u001b[0m\u001b[0;34m:\u001b[0m\u001b[0;34m\u001b[0m\u001b[0;34m\u001b[0m\u001b[0m\n\u001b[1;32m   3000\u001b[0m                 \u001b[0mkey\u001b[0m \u001b[0;34m=\u001b[0m \u001b[0mlist\u001b[0m\u001b[0;34m(\u001b[0m\u001b[0mkey\u001b[0m\u001b[0;34m)\u001b[0m\u001b[0;34m\u001b[0m\u001b[0;34m\u001b[0m\u001b[0m\n\u001b[0;32m-> 3001\u001b[0;31m             \u001b[0mindexer\u001b[0m \u001b[0;34m=\u001b[0m \u001b[0mself\u001b[0m\u001b[0;34m.\u001b[0m\u001b[0mloc\u001b[0m\u001b[0;34m.\u001b[0m\u001b[0m_convert_to_indexer\u001b[0m\u001b[0;34m(\u001b[0m\u001b[0mkey\u001b[0m\u001b[0;34m,\u001b[0m \u001b[0maxis\u001b[0m\u001b[0;34m=\u001b[0m\u001b[0;36m1\u001b[0m\u001b[0;34m,\u001b[0m \u001b[0mraise_missing\u001b[0m\u001b[0;34m=\u001b[0m\u001b[0;32mTrue\u001b[0m\u001b[0;34m)\u001b[0m\u001b[0;34m\u001b[0m\u001b[0;34m\u001b[0m\u001b[0m\n\u001b[0m\u001b[1;32m   3002\u001b[0m \u001b[0;34m\u001b[0m\u001b[0m\n\u001b[1;32m   3003\u001b[0m         \u001b[0;31m# take() does not accept boolean indexers\u001b[0m\u001b[0;34m\u001b[0m\u001b[0;34m\u001b[0m\u001b[0;34m\u001b[0m\u001b[0m\n",
      "\u001b[0;32m/usr/local/lib/python3.6/dist-packages/pandas/core/indexing.py\u001b[0m in \u001b[0;36m_convert_to_indexer\u001b[0;34m(self, obj, axis, is_setter, raise_missing)\u001b[0m\n\u001b[1;32m   1283\u001b[0m                 \u001b[0;31m# When setting, missing keys are not allowed, even with .loc:\u001b[0m\u001b[0;34m\u001b[0m\u001b[0;34m\u001b[0m\u001b[0;34m\u001b[0m\u001b[0m\n\u001b[1;32m   1284\u001b[0m                 \u001b[0mkwargs\u001b[0m \u001b[0;34m=\u001b[0m \u001b[0;34m{\u001b[0m\u001b[0;34m\"raise_missing\"\u001b[0m\u001b[0;34m:\u001b[0m \u001b[0;32mTrue\u001b[0m \u001b[0;32mif\u001b[0m \u001b[0mis_setter\u001b[0m \u001b[0;32melse\u001b[0m \u001b[0mraise_missing\u001b[0m\u001b[0;34m}\u001b[0m\u001b[0;34m\u001b[0m\u001b[0;34m\u001b[0m\u001b[0m\n\u001b[0;32m-> 1285\u001b[0;31m                 \u001b[0;32mreturn\u001b[0m \u001b[0mself\u001b[0m\u001b[0;34m.\u001b[0m\u001b[0m_get_listlike_indexer\u001b[0m\u001b[0;34m(\u001b[0m\u001b[0mobj\u001b[0m\u001b[0;34m,\u001b[0m \u001b[0maxis\u001b[0m\u001b[0;34m,\u001b[0m \u001b[0;34m**\u001b[0m\u001b[0mkwargs\u001b[0m\u001b[0;34m)\u001b[0m\u001b[0;34m[\u001b[0m\u001b[0;36m1\u001b[0m\u001b[0;34m]\u001b[0m\u001b[0;34m\u001b[0m\u001b[0;34m\u001b[0m\u001b[0m\n\u001b[0m\u001b[1;32m   1286\u001b[0m         \u001b[0;32melse\u001b[0m\u001b[0;34m:\u001b[0m\u001b[0;34m\u001b[0m\u001b[0;34m\u001b[0m\u001b[0m\n\u001b[1;32m   1287\u001b[0m             \u001b[0;32mtry\u001b[0m\u001b[0;34m:\u001b[0m\u001b[0;34m\u001b[0m\u001b[0;34m\u001b[0m\u001b[0m\n",
      "\u001b[0;32m/usr/local/lib/python3.6/dist-packages/pandas/core/indexing.py\u001b[0m in \u001b[0;36m_get_listlike_indexer\u001b[0;34m(self, key, axis, raise_missing)\u001b[0m\n\u001b[1;32m   1090\u001b[0m \u001b[0;34m\u001b[0m\u001b[0m\n\u001b[1;32m   1091\u001b[0m         self._validate_read_indexer(\n\u001b[0;32m-> 1092\u001b[0;31m             \u001b[0mkeyarr\u001b[0m\u001b[0;34m,\u001b[0m \u001b[0mindexer\u001b[0m\u001b[0;34m,\u001b[0m \u001b[0mo\u001b[0m\u001b[0;34m.\u001b[0m\u001b[0m_get_axis_number\u001b[0m\u001b[0;34m(\u001b[0m\u001b[0maxis\u001b[0m\u001b[0;34m)\u001b[0m\u001b[0;34m,\u001b[0m \u001b[0mraise_missing\u001b[0m\u001b[0;34m=\u001b[0m\u001b[0mraise_missing\u001b[0m\u001b[0;34m\u001b[0m\u001b[0;34m\u001b[0m\u001b[0m\n\u001b[0m\u001b[1;32m   1093\u001b[0m         )\n\u001b[1;32m   1094\u001b[0m         \u001b[0;32mreturn\u001b[0m \u001b[0mkeyarr\u001b[0m\u001b[0;34m,\u001b[0m \u001b[0mindexer\u001b[0m\u001b[0;34m\u001b[0m\u001b[0;34m\u001b[0m\u001b[0m\n",
      "\u001b[0;32m/usr/local/lib/python3.6/dist-packages/pandas/core/indexing.py\u001b[0m in \u001b[0;36m_validate_read_indexer\u001b[0;34m(self, key, indexer, axis, raise_missing)\u001b[0m\n\u001b[1;32m   1183\u001b[0m             \u001b[0;32mif\u001b[0m \u001b[0;32mnot\u001b[0m \u001b[0;34m(\u001b[0m\u001b[0mself\u001b[0m\u001b[0;34m.\u001b[0m\u001b[0mname\u001b[0m \u001b[0;34m==\u001b[0m \u001b[0;34m\"loc\"\u001b[0m \u001b[0;32mand\u001b[0m \u001b[0;32mnot\u001b[0m \u001b[0mraise_missing\u001b[0m\u001b[0;34m)\u001b[0m\u001b[0;34m:\u001b[0m\u001b[0;34m\u001b[0m\u001b[0;34m\u001b[0m\u001b[0m\n\u001b[1;32m   1184\u001b[0m                 \u001b[0mnot_found\u001b[0m \u001b[0;34m=\u001b[0m \u001b[0mlist\u001b[0m\u001b[0;34m(\u001b[0m\u001b[0mset\u001b[0m\u001b[0;34m(\u001b[0m\u001b[0mkey\u001b[0m\u001b[0;34m)\u001b[0m \u001b[0;34m-\u001b[0m \u001b[0mset\u001b[0m\u001b[0;34m(\u001b[0m\u001b[0max\u001b[0m\u001b[0;34m)\u001b[0m\u001b[0;34m)\u001b[0m\u001b[0;34m\u001b[0m\u001b[0;34m\u001b[0m\u001b[0m\n\u001b[0;32m-> 1185\u001b[0;31m                 \u001b[0;32mraise\u001b[0m \u001b[0mKeyError\u001b[0m\u001b[0;34m(\u001b[0m\u001b[0;34m\"{} not in index\"\u001b[0m\u001b[0;34m.\u001b[0m\u001b[0mformat\u001b[0m\u001b[0;34m(\u001b[0m\u001b[0mnot_found\u001b[0m\u001b[0;34m)\u001b[0m\u001b[0;34m)\u001b[0m\u001b[0;34m\u001b[0m\u001b[0;34m\u001b[0m\u001b[0m\n\u001b[0m\u001b[1;32m   1186\u001b[0m \u001b[0;34m\u001b[0m\u001b[0m\n\u001b[1;32m   1187\u001b[0m             \u001b[0;31m# we skip the warning on Categorical/Interval\u001b[0m\u001b[0;34m\u001b[0m\u001b[0;34m\u001b[0m\u001b[0;34m\u001b[0m\u001b[0m\n",
      "\u001b[0;31mKeyError\u001b[0m: \"['labels'] not in index\""
     ]
    }
   ],
   "source": [
    "indsf_df[[\"Title\",'']].head()"
   ]
  },
  {
   "cell_type": "code",
   "execution_count": 0,
   "metadata": {
    "colab": {},
    "colab_type": "code",
    "id": "VHYIi9A-h0ts"
   },
   "outputs": [],
   "source": []
  }
 ],
 "metadata": {
  "colab": {
   "collapsed_sections": [],
   "name": "snorkel_lf_(2).ipynb",
   "provenance": []
  },
  "kernelspec": {
   "display_name": "Python 3",
   "language": "python",
   "name": "python3"
  },
  "language_info": {
   "codemirror_mode": {
    "name": "ipython",
    "version": 3
   },
   "file_extension": ".py",
   "mimetype": "text/x-python",
   "name": "python",
   "nbconvert_exporter": "python",
   "pygments_lexer": "ipython3",
   "version": "3.7.4"
  }
 },
 "nbformat": 4,
 "nbformat_minor": 1
}
