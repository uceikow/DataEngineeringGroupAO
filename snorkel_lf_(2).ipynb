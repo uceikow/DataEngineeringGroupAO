{
  "nbformat": 4,
  "nbformat_minor": 0,
  "metadata": {
    "colab": {
      "name": "snorkel_lf (2).ipynb",
      "provenance": [],
      "collapsed_sections": [],
      "toc_visible": true,
      "include_colab_link": true
    },
    "kernelspec": {
      "display_name": "Python [default]",
      "language": "python",
      "name": "python3"
    },
    "language_info": {
      "codemirror_mode": {
        "name": "ipython",
        "version": 3
      },
      "file_extension": ".py",
      "mimetype": "text/x-python",
      "name": "python",
      "nbconvert_exporter": "python",
      "pygments_lexer": "ipython3",
      "version": "3.6.10"
    }
  },
  "cells": [
    {
      "cell_type": "markdown",
      "metadata": {
        "id": "view-in-github",
        "colab_type": "text"
      },
      "source": [
        "<a href=\"https://colab.research.google.com/github/uceikow/DataEngineeringGroupAO/blob/master/snorkel_lf_(2).ipynb\" target=\"_parent\"><img src=\"https://colab.research.google.com/assets/colab-badge.svg\" alt=\"Open In Colab\"/></a>"
      ]
    },
    {
      "cell_type": "markdown",
      "metadata": {
        "id": "ojShiJy5gcpI",
        "colab_type": "text"
      },
      "source": [
        "# Recipe Labelling"
      ]
    },
    {
      "cell_type": "markdown",
      "metadata": {
        "id": "s4Sy3qWkgcpL",
        "colab_type": "text"
      },
      "source": [
        "## Set up for the work"
      ]
    },
    {
      "cell_type": "code",
      "metadata": {
        "colab_type": "code",
        "id": "WL0ih9fRhPEh",
        "colab": {}
      },
      "source": [
        "! pip install snorkel"
      ],
      "execution_count": 0,
      "outputs": []
    },
    {
      "cell_type": "code",
      "metadata": {
        "colab_type": "code",
        "id": "RzMzZ5c8hPEn",
        "colab": {}
      },
      "source": [
        "! pip install spacy"
      ],
      "execution_count": 0,
      "outputs": []
    },
    {
      "cell_type": "code",
      "metadata": {
        "colab_type": "code",
        "id": "PcrYo7xyhPEp",
        "colab": {}
      },
      "source": [
        "!python -m spacy download en_core_web_sm"
      ],
      "execution_count": 0,
      "outputs": []
    },
    {
      "cell_type": "code",
      "metadata": {
        "colab_type": "code",
        "id": "tdbski8thPFQ",
        "outputId": "83732d81-a32c-4f55-d41c-6d54f8765fcd",
        "colab": {
          "base_uri": "https://localhost:8080/",
          "height": 53
        }
      },
      "source": [
        "! pip install nltk"
      ],
      "execution_count": 0,
      "outputs": [
        {
          "output_type": "stream",
          "text": [
            "Requirement already satisfied: nltk in /opt/anaconda/envs/Python3/lib/python3.6/site-packages (3.4.5)\r\n",
            "Requirement already satisfied: six in /opt/anaconda/envs/Python3/lib/python3.6/site-packages (from nltk) (1.14.0)\r\n"
          ],
          "name": "stdout"
        }
      ]
    },
    {
      "cell_type": "code",
      "metadata": {
        "colab_type": "code",
        "id": "Byvg_0k7hPFU",
        "outputId": "265e81ea-f562-4559-cf93-488213f3540b",
        "colab": {
          "base_uri": "https://localhost:8080/",
          "height": 107
        }
      },
      "source": [
        "nltk.download('punkt')\n",
        "nltk.download('wordnet')\n",
        "nltk.download('stopwords')"
      ],
      "execution_count": 0,
      "outputs": [
        {
          "output_type": "stream",
          "text": [
            "[nltk_data] Downloading package punkt to /home/faculty/nltk_data...\n",
            "[nltk_data]   Unzipping tokenizers/punkt.zip.\n"
          ],
          "name": "stderr"
        },
        {
          "output_type": "execute_result",
          "data": {
            "text/plain": [
              "True"
            ]
          },
          "metadata": {
            "tags": []
          },
          "execution_count": 13
        },
        {
          "output_type": "stream",
          "text": [
            "[nltk_data] Downloading package wordnet to /home/faculty/nltk_data...\n",
            "[nltk_data]   Unzipping corpora/wordnet.zip.\n"
          ],
          "name": "stderr"
        },
        {
          "output_type": "execute_result",
          "data": {
            "text/plain": [
              "True"
            ]
          },
          "metadata": {
            "tags": []
          },
          "execution_count": 13
        },
        {
          "output_type": "stream",
          "text": [
            "[nltk_data] Downloading package stopwords to\n",
            "[nltk_data]     /home/faculty/nltk_data...\n",
            "[nltk_data]   Unzipping corpora/stopwords.zip.\n"
          ],
          "name": "stderr"
        },
        {
          "output_type": "execute_result",
          "data": {
            "text/plain": [
              "True"
            ]
          },
          "metadata": {
            "tags": []
          },
          "execution_count": 13
        }
      ]
    },
    {
      "cell_type": "code",
      "metadata": {
        "colab_type": "code",
        "id": "fdZMV8XFyXfL",
        "colab": {}
      },
      "source": [
        "import nltk\n",
        "from nltk import sent_tokenize, word_tokenize\n",
        "from nltk.corpus import stopwords\n",
        "import re\n",
        "import string"
      ],
      "execution_count": 0,
      "outputs": []
    },
    {
      "cell_type": "code",
      "metadata": {
        "colab_type": "code",
        "id": "s8NMX7sJBFWa",
        "colab": {}
      },
      "source": [
        "# Display full output rather than just the last line of output\n",
        "from IPython.core.interactiveshell import InteractiveShell\n",
        "InteractiveShell.ast_node_interactivity = \"all\""
      ],
      "execution_count": 0,
      "outputs": []
    },
    {
      "cell_type": "code",
      "metadata": {
        "colab_type": "code",
        "id": "wVHdxlF4hPFH",
        "colab": {}
      },
      "source": [
        "# Load dataset\n",
        "import pandas as pd\n",
        "\n",
        "indian = pd.read_csv(\"/project/data_indian.csv\")\n",
        "indian['label'] = 'indian'\n",
        "italian = pd.read_csv(\"/project/data_italian.csv\")\n",
        "italian['label'] = 'italian'\n",
        "mexican = pd.read_csv(\"/project/data_mexican.csv\")\n",
        "mexican['label'] = 'mexican'"
      ],
      "execution_count": 0,
      "outputs": []
    },
    {
      "cell_type": "code",
      "metadata": {
        "id": "y8EKQi2Ugcpg",
        "colab_type": "code",
        "colab": {},
        "outputId": "92e74d13-cdcf-4a2a-e026-0993c8fd96c7"
      },
      "source": [
        "len(indian)\n",
        "len(mexican)\n",
        "len(italian)"
      ],
      "execution_count": 0,
      "outputs": [
        {
          "output_type": "execute_result",
          "data": {
            "text/plain": [
              "480"
            ]
          },
          "metadata": {
            "tags": []
          },
          "execution_count": 149
        },
        {
          "output_type": "execute_result",
          "data": {
            "text/plain": [
              "620"
            ]
          },
          "metadata": {
            "tags": []
          },
          "execution_count": 149
        },
        {
          "output_type": "execute_result",
          "data": {
            "text/plain": [
              "400"
            ]
          },
          "metadata": {
            "tags": []
          },
          "execution_count": 149
        }
      ]
    },
    {
      "cell_type": "code",
      "metadata": {
        "colab_type": "code",
        "id": "iYDYOIHqqi3z",
        "outputId": "d20da84c-cb5f-48e9-a199-384b58180452",
        "colab": {
          "base_uri": "https://localhost:8080/",
          "height": 415
        }
      },
      "source": [
        "# Concat them into one dataset\n",
        "recipe = pd.concat([indian, italian, mexican],ignore_index = True)\n",
        "recipe"
      ],
      "execution_count": 0,
      "outputs": [
        {
          "output_type": "execute_result",
          "data": {
            "text/html": [
              "<div>\n",
              "<style scoped>\n",
              "    .dataframe tbody tr th:only-of-type {\n",
              "        vertical-align: middle;\n",
              "    }\n",
              "\n",
              "    .dataframe tbody tr th {\n",
              "        vertical-align: top;\n",
              "    }\n",
              "\n",
              "    .dataframe thead th {\n",
              "        text-align: right;\n",
              "    }\n",
              "</style>\n",
              "<table border=\"1\" class=\"dataframe\">\n",
              "  <thead>\n",
              "    <tr style=\"text-align: right;\">\n",
              "      <th></th>\n",
              "      <th>Title</th>\n",
              "      <th>Description</th>\n",
              "      <th>label</th>\n",
              "    </tr>\n",
              "  </thead>\n",
              "  <tbody>\n",
              "    <tr>\n",
              "      <th>0</th>\n",
              "      <td>Indian Peanut Stew</td>\n",
              "      <td>This is an easy, authentic dish from South Asi...</td>\n",
              "      <td>indian</td>\n",
              "    </tr>\n",
              "    <tr>\n",
              "      <th>1</th>\n",
              "      <td>Roomali Roti</td>\n",
              "      <td>There is no leavening in this simple, tender I...</td>\n",
              "      <td>indian</td>\n",
              "    </tr>\n",
              "    <tr>\n",
              "      <th>2</th>\n",
              "      <td>Spicy Sweet Potato Salad</td>\n",
              "      <td>It's important to use good mayonnaise in this ...</td>\n",
              "      <td>indian</td>\n",
              "    </tr>\n",
              "    <tr>\n",
              "      <th>3</th>\n",
              "      <td>Chicken Saag</td>\n",
              "      <td>The classic Indian chicken and spinach dish ge...</td>\n",
              "      <td>indian</td>\n",
              "    </tr>\n",
              "    <tr>\n",
              "      <th>4</th>\n",
              "      <td>Paleo Slow Cooker Pork Loin</td>\n",
              "      <td>Boneless pork loin slowly cooks in a curried f...</td>\n",
              "      <td>indian</td>\n",
              "    </tr>\n",
              "    <tr>\n",
              "      <th>...</th>\n",
              "      <td>...</td>\n",
              "      <td>...</td>\n",
              "      <td>...</td>\n",
              "    </tr>\n",
              "    <tr>\n",
              "      <th>1495</th>\n",
              "      <td>Taco Stew</td>\n",
              "      <td>Ground beef and onions sauteed with a packet o...</td>\n",
              "      <td>mexican</td>\n",
              "    </tr>\n",
              "    <tr>\n",
              "      <th>1496</th>\n",
              "      <td>Chicken Tortilla Soup in the Slow Cooker</td>\n",
              "      <td>Everyone loves using their slow cooker to make...</td>\n",
              "      <td>mexican</td>\n",
              "    </tr>\n",
              "    <tr>\n",
              "      <th>1497</th>\n",
              "      <td>Bountiful Garden Zucchini Enchiladas</td>\n",
              "      <td>Fresh zucchini and Monterey Jack cheese filled...</td>\n",
              "      <td>mexican</td>\n",
              "    </tr>\n",
              "    <tr>\n",
              "      <th>1498</th>\n",
              "      <td>Bean and Honey Burrito Casserole</td>\n",
              "      <td>Here's a great way to feed burritos to a crowd...</td>\n",
              "      <td>mexican</td>\n",
              "    </tr>\n",
              "    <tr>\n",
              "      <th>1499</th>\n",
              "      <td>Green Chile Chicken Stew</td>\n",
              "      <td>This stew will keep you warm and cozy on those...</td>\n",
              "      <td>mexican</td>\n",
              "    </tr>\n",
              "  </tbody>\n",
              "</table>\n",
              "<p>1500 rows × 3 columns</p>\n",
              "</div>"
            ],
            "text/plain": [
              "                                         Title  \\\n",
              "0                           Indian Peanut Stew   \n",
              "1                                 Roomali Roti   \n",
              "2                     Spicy Sweet Potato Salad   \n",
              "3                                 Chicken Saag   \n",
              "4                  Paleo Slow Cooker Pork Loin   \n",
              "...                                        ...   \n",
              "1495                                 Taco Stew   \n",
              "1496  Chicken Tortilla Soup in the Slow Cooker   \n",
              "1497      Bountiful Garden Zucchini Enchiladas   \n",
              "1498          Bean and Honey Burrito Casserole   \n",
              "1499                  Green Chile Chicken Stew   \n",
              "\n",
              "                                            Description    label  \n",
              "0     This is an easy, authentic dish from South Asi...   indian  \n",
              "1     There is no leavening in this simple, tender I...   indian  \n",
              "2     It's important to use good mayonnaise in this ...   indian  \n",
              "3     The classic Indian chicken and spinach dish ge...   indian  \n",
              "4     Boneless pork loin slowly cooks in a curried f...   indian  \n",
              "...                                                 ...      ...  \n",
              "1495  Ground beef and onions sauteed with a packet o...  mexican  \n",
              "1496  Everyone loves using their slow cooker to make...  mexican  \n",
              "1497  Fresh zucchini and Monterey Jack cheese filled...  mexican  \n",
              "1498  Here's a great way to feed burritos to a crowd...  mexican  \n",
              "1499  This stew will keep you warm and cozy on those...  mexican  \n",
              "\n",
              "[1500 rows x 3 columns]"
            ]
          },
          "metadata": {
            "tags": []
          },
          "execution_count": 8
        }
      ]
    },
    {
      "cell_type": "code",
      "metadata": {
        "colab_type": "code",
        "id": "5B5GRAyfhPFS",
        "colab": {}
      },
      "source": [
        "## Clean dataset"
      ],
      "execution_count": 0,
      "outputs": []
    },
    {
      "cell_type": "code",
      "metadata": {
        "colab_type": "code",
        "id": "BsgxdYe9p-TS",
        "colab": {}
      },
      "source": [
        "# Clean the dataset\n",
        "# Lowercase\n",
        "recipe = recipe.apply(lambda row: row.str.lower())\n",
        "\n",
        "# Remove digits\n",
        "recipe['Title'] = recipe.apply((lambda row: ''.join([i for i in row['Title'] if not i.isdigit()])),axis = 1)\n",
        "recipe['Description'] = recipe.apply((lambda row: ''.join([i for i in row['Description'] if not i.isdigit()])),axis = 1)\n",
        "\n",
        "# Remove punctuations\n",
        "recipe['Title'] = recipe.apply((lambda row: ''.join([i for i in row['Title'] if i not in string.punctuation])),axis=1)\n",
        "recipe['Description'] = recipe.apply((lambda row: ''.join([i for i in row['Description'] if i not in string.punctuation])),axis=1)\n",
        "\n",
        "# Remove Stopwords\n",
        "stop = stopwords.words('english')\n",
        "recipe['Title'] = recipe['Title'].apply(lambda x: ' '.join([word for word in x.split() if word not in (stop)]))\n",
        "recipe['Description'] = recipe['Description'].apply(lambda x: ' '.join([word for word in x.split() if word not in (stop)]))"
      ],
      "execution_count": 0,
      "outputs": []
    },
    {
      "cell_type": "code",
      "metadata": {
        "colab_type": "code",
        "id": "rPeGEU8Z5dIZ",
        "outputId": "160cab6b-5b0c-4022-a98e-74d282eca748",
        "colab": {
          "base_uri": "https://localhost:8080/",
          "height": 202
        }
      },
      "source": [
        "recipe.head()"
      ],
      "execution_count": 0,
      "outputs": [
        {
          "output_type": "execute_result",
          "data": {
            "text/html": [
              "<div>\n",
              "<style scoped>\n",
              "    .dataframe tbody tr th:only-of-type {\n",
              "        vertical-align: middle;\n",
              "    }\n",
              "\n",
              "    .dataframe tbody tr th {\n",
              "        vertical-align: top;\n",
              "    }\n",
              "\n",
              "    .dataframe thead th {\n",
              "        text-align: right;\n",
              "    }\n",
              "</style>\n",
              "<table border=\"1\" class=\"dataframe\">\n",
              "  <thead>\n",
              "    <tr style=\"text-align: right;\">\n",
              "      <th></th>\n",
              "      <th>Title</th>\n",
              "      <th>Description</th>\n",
              "      <th>label</th>\n",
              "    </tr>\n",
              "  </thead>\n",
              "  <tbody>\n",
              "    <tr>\n",
              "      <th>0</th>\n",
              "      <td>indian peanut stew</td>\n",
              "      <td>easy authentic dish south asia appeals wide ra...</td>\n",
              "      <td>indian</td>\n",
              "    </tr>\n",
              "    <tr>\n",
              "      <th>1</th>\n",
              "      <td>roomali roti</td>\n",
              "      <td>leavening simple tender indian flatbread bread...</td>\n",
              "      <td>indian</td>\n",
              "    </tr>\n",
              "    <tr>\n",
              "      <th>2</th>\n",
              "      <td>spicy sweet potato salad</td>\n",
              "      <td>important use good mayonnaise recipe let cooke...</td>\n",
              "      <td>indian</td>\n",
              "    </tr>\n",
              "    <tr>\n",
              "      <th>3</th>\n",
              "      <td>chicken saag</td>\n",
              "      <td>classic indian chicken spinach dish gets richn...</td>\n",
              "      <td>indian</td>\n",
              "    </tr>\n",
              "    <tr>\n",
              "      <th>4</th>\n",
              "      <td>paleo slow cooker pork loin</td>\n",
              "      <td>boneless pork loin slowly cooks curried fruit ...</td>\n",
              "      <td>indian</td>\n",
              "    </tr>\n",
              "  </tbody>\n",
              "</table>\n",
              "</div>"
            ],
            "text/plain": [
              "                         Title  \\\n",
              "0           indian peanut stew   \n",
              "1                 roomali roti   \n",
              "2     spicy sweet potato salad   \n",
              "3                 chicken saag   \n",
              "4  paleo slow cooker pork loin   \n",
              "\n",
              "                                         Description   label  \n",
              "0  easy authentic dish south asia appeals wide ra...  indian  \n",
              "1  leavening simple tender indian flatbread bread...  indian  \n",
              "2  important use good mayonnaise recipe let cooke...  indian  \n",
              "3  classic indian chicken spinach dish gets richn...  indian  \n",
              "4  boneless pork loin slowly cooks curried fruit ...  indian  "
            ]
          },
          "metadata": {
            "tags": []
          },
          "execution_count": 16
        }
      ]
    },
    {
      "cell_type": "markdown",
      "metadata": {
        "colab_type": "text",
        "id": "hOFD7g02CwKl"
      },
      "source": [
        "## Pattern Exploration\n",
        "\n",
        "Before splitting the dataset and writing labelling function,  we might want to first get an idea of how our targetting labels look like. This gives us some basic information of how to start building the labelling function."
      ]
    },
    {
      "cell_type": "code",
      "metadata": {
        "colab_type": "code",
        "id": "BgzIrjKY9S9x",
        "outputId": "53f64bd4-685d-4e7a-fb91-775fb02ef590",
        "colab": {
          "base_uri": "https://localhost:8080/",
          "height": 701
        }
      },
      "source": [
        "# Patterns from different recipes\n",
        "\n",
        "# Filter out different recipes\n",
        "recipe_ind = recipe[recipe['label'] == 'indian']\n",
        "recipe_ita = recipe[recipe['label'] == 'italian']\n",
        "recipe_mex = recipe[recipe['label'] == 'mexican']\n",
        "\n",
        "# Word frequency in 'Title'\n",
        "top_N = 15\n",
        "\n",
        "title1 = recipe_ind.Title.str.cat(sep=' ')\n",
        "words_in_title1 = nltk.tokenize.word_tokenize(title1)\n",
        "word_dist_title1 = nltk.FreqDist(words_in_title1)\n",
        "\n",
        "title2 = recipe_ita.Title.str.cat(sep=' ')\n",
        "words_in_title2 = nltk.tokenize.word_tokenize(title2)\n",
        "word_dist_title2 = nltk.FreqDist(words_in_title2)\n",
        "\n",
        "title3 = recipe_mex.Title.str.cat(sep=' ')\n",
        "words_in_title3 = nltk.tokenize.word_tokenize(title3)\n",
        "word_dist_title3 = nltk.FreqDist(words_in_title3)\n",
        "\n",
        "ind_freq = pd.DataFrame(word_dist_title1.most_common(top_N),\n",
        "                    columns=['Indian', 'Frequency'])\n",
        "ita_freq = pd.DataFrame(word_dist_title2.most_common(top_N),\n",
        "                    columns=['Italian', 'Frequency'])\n",
        "mex_freq = pd.DataFrame(word_dist_title3.most_common(top_N),\n",
        "                    columns=['Mexican', 'Frequency'])\n",
        "\n",
        "title_freq = pd.concat([ind_freq,ita_freq,mex_freq],axis = 1)\n",
        "title_freq"
      ],
      "execution_count": 0,
      "outputs": [
        {
          "output_type": "execute_result",
          "data": {
            "text/html": [
              "<div>\n",
              "<style scoped>\n",
              "    .dataframe tbody tr th:only-of-type {\n",
              "        vertical-align: middle;\n",
              "    }\n",
              "\n",
              "    .dataframe tbody tr th {\n",
              "        vertical-align: top;\n",
              "    }\n",
              "\n",
              "    .dataframe thead th {\n",
              "        text-align: right;\n",
              "    }\n",
              "</style>\n",
              "<table border=\"1\" class=\"dataframe\">\n",
              "  <thead>\n",
              "    <tr style=\"text-align: right;\">\n",
              "      <th></th>\n",
              "      <th>Indian</th>\n",
              "      <th>Frequency</th>\n",
              "      <th>Italian</th>\n",
              "      <th>Frequency</th>\n",
              "      <th>Mexican</th>\n",
              "      <th>Frequency</th>\n",
              "    </tr>\n",
              "  </thead>\n",
              "  <tbody>\n",
              "    <tr>\n",
              "      <th>0</th>\n",
              "      <td>chicken</td>\n",
              "      <td>92</td>\n",
              "      <td>italian</td>\n",
              "      <td>76</td>\n",
              "      <td>chicken</td>\n",
              "      <td>118</td>\n",
              "    </tr>\n",
              "    <tr>\n",
              "      <th>1</th>\n",
              "      <td>curry</td>\n",
              "      <td>82</td>\n",
              "      <td>chicken</td>\n",
              "      <td>52</td>\n",
              "      <td>mexican</td>\n",
              "      <td>100</td>\n",
              "    </tr>\n",
              "    <tr>\n",
              "      <th>2</th>\n",
              "      <td>indian</td>\n",
              "      <td>72</td>\n",
              "      <td>pasta</td>\n",
              "      <td>45</td>\n",
              "      <td>enchiladas</td>\n",
              "      <td>57</td>\n",
              "    </tr>\n",
              "    <tr>\n",
              "      <th>3</th>\n",
              "      <td>masala</td>\n",
              "      <td>30</td>\n",
              "      <td>sauce</td>\n",
              "      <td>38</td>\n",
              "      <td>taco</td>\n",
              "      <td>41</td>\n",
              "    </tr>\n",
              "    <tr>\n",
              "      <th>4</th>\n",
              "      <td>rice</td>\n",
              "      <td>28</td>\n",
              "      <td>lasagna</td>\n",
              "      <td>33</td>\n",
              "      <td>soup</td>\n",
              "      <td>39</td>\n",
              "    </tr>\n",
              "    <tr>\n",
              "      <th>5</th>\n",
              "      <td>spicy</td>\n",
              "      <td>25</td>\n",
              "      <td>sausage</td>\n",
              "      <td>23</td>\n",
              "      <td>bean</td>\n",
              "      <td>37</td>\n",
              "    </tr>\n",
              "    <tr>\n",
              "      <th>6</th>\n",
              "      <td>curried</td>\n",
              "      <td>21</td>\n",
              "      <td>pizza</td>\n",
              "      <td>23</td>\n",
              "      <td>salsa</td>\n",
              "      <td>36</td>\n",
              "    </tr>\n",
              "    <tr>\n",
              "      <th>7</th>\n",
              "      <td>paneer</td>\n",
              "      <td>20</td>\n",
              "      <td>ii</td>\n",
              "      <td>23</td>\n",
              "      <td>casserole</td>\n",
              "      <td>36</td>\n",
              "    </tr>\n",
              "    <tr>\n",
              "      <th>8</th>\n",
              "      <td>chutney</td>\n",
              "      <td>20</td>\n",
              "      <td>spaghetti</td>\n",
              "      <td>19</td>\n",
              "      <td>beef</td>\n",
              "      <td>31</td>\n",
              "    </tr>\n",
              "    <tr>\n",
              "      <th>9</th>\n",
              "      <td>soup</td>\n",
              "      <td>20</td>\n",
              "      <td>bread</td>\n",
              "      <td>18</td>\n",
              "      <td>rice</td>\n",
              "      <td>30</td>\n",
              "    </tr>\n",
              "    <tr>\n",
              "      <th>10</th>\n",
              "      <td>salad</td>\n",
              "      <td>19</td>\n",
              "      <td>cheese</td>\n",
              "      <td>17</td>\n",
              "      <td>tacos</td>\n",
              "      <td>30</td>\n",
              "    </tr>\n",
              "    <tr>\n",
              "      <th>11</th>\n",
              "      <td>easy</td>\n",
              "      <td>19</td>\n",
              "      <td>soup</td>\n",
              "      <td>16</td>\n",
              "      <td>easy</td>\n",
              "      <td>29</td>\n",
              "    </tr>\n",
              "    <tr>\n",
              "      <th>12</th>\n",
              "      <td>lamb</td>\n",
              "      <td>17</td>\n",
              "      <td>tomato</td>\n",
              "      <td>16</td>\n",
              "      <td>enchilada</td>\n",
              "      <td>27</td>\n",
              "    </tr>\n",
              "    <tr>\n",
              "      <th>13</th>\n",
              "      <td>tomato</td>\n",
              "      <td>17</td>\n",
              "      <td>salad</td>\n",
              "      <td>13</td>\n",
              "      <td>dip</td>\n",
              "      <td>27</td>\n",
              "    </tr>\n",
              "    <tr>\n",
              "      <th>14</th>\n",
              "      <td>potato</td>\n",
              "      <td>16</td>\n",
              "      <td>easy</td>\n",
              "      <td>12</td>\n",
              "      <td>ii</td>\n",
              "      <td>26</td>\n",
              "    </tr>\n",
              "  </tbody>\n",
              "</table>\n",
              "</div>"
            ],
            "text/plain": [
              "     Indian  Frequency    Italian  Frequency     Mexican  Frequency\n",
              "0   chicken         92    italian         76     chicken        118\n",
              "1     curry         82    chicken         52     mexican        100\n",
              "2    indian         72      pasta         45  enchiladas         57\n",
              "3    masala         30      sauce         38        taco         41\n",
              "4      rice         28    lasagna         33        soup         39\n",
              "5     spicy         25    sausage         23        bean         37\n",
              "6   curried         21      pizza         23       salsa         36\n",
              "7    paneer         20         ii         23   casserole         36\n",
              "8   chutney         20  spaghetti         19        beef         31\n",
              "9      soup         20      bread         18        rice         30\n",
              "10    salad         19     cheese         17       tacos         30\n",
              "11     easy         19       soup         16        easy         29\n",
              "12     lamb         17     tomato         16   enchilada         27\n",
              "13   tomato         17      salad         13         dip         27\n",
              "14   potato         16       easy         12          ii         26"
            ]
          },
          "metadata": {
            "tags": []
          },
          "execution_count": 19
        }
      ]
    },
    {
      "cell_type": "markdown",
      "metadata": {
        "id": "gfXHX0H-gcpy",
        "colab_type": "text"
      },
      "source": [
        "It is easier to find patterns and differences of recipes if we display titles of three recipes together. The same goes for description."
      ]
    },
    {
      "cell_type": "markdown",
      "metadata": {
        "colab_type": "text",
        "id": "5EEimMn1BXzs"
      },
      "source": [
        "**Ideas of building Labelling functions:**\n",
        "\n",
        "- Single word (specific ones), such as curry, masala, paneer and chutney for indian repice. These words can label one type of recipe quite well because of their specialty (they will not appear in other recipes). Except for words included in top 15 frequency list, they must be other special words, which might need go through the whole dataset to find.\n",
        "\n",
        "- Word combos, such as **curry + chicken = indian** :) You might find that chicken are used a lot in both indian and mexican recipe, while a way to label them might be find a **word combos** (function = special word + main ingrediant)."
      ]
    },
    {
      "cell_type": "code",
      "metadata": {
        "id": "OJXh9l3Lgcpz",
        "colab_type": "code",
        "colab": {},
        "outputId": "afd7816d-76b6-42d3-fb81-1713e392e765"
      },
      "source": [
        "# Word frequency in 'Description'\n",
        "des1 = recipe_ind.Description.str.cat(sep=' ')\n",
        "words_in_des1 = nltk.tokenize.word_tokenize(des1)\n",
        "word_dist_des1 = nltk.FreqDist(words_in_des1)\n",
        "\n",
        "des2 = recipe_ita.Description.str.cat(sep=' ')\n",
        "words_in_des2 = nltk.tokenize.word_tokenize(des2)\n",
        "word_dist_des2 = nltk.FreqDist(words_in_des2)\n",
        "\n",
        "des3 = recipe_mex.Description.str.cat(sep=' ')\n",
        "words_in_des3 = nltk.tokenize.word_tokenize(des3)\n",
        "word_dist_des3 = nltk.FreqDist(words_in_des3)\n",
        "\n",
        "d1_freq = pd.DataFrame(word_dist_des1.most_common(top_N),\n",
        "                    columns=['Ind_description', 'Frequency'])\n",
        "d2_freq = pd.DataFrame(word_dist_des2.most_common(top_N),\n",
        "                    columns=['Ita_description', 'Frequency'])\n",
        "d3_freq = pd.DataFrame(word_dist_des3.most_common(top_N),\n",
        "                    columns=['Mex_description', 'Frequency'])\n",
        "\n",
        "des_freq = pd.concat([d1_freq,d2_freq,d3_freq],axis=1)\n",
        "des_freq"
      ],
      "execution_count": 0,
      "outputs": [
        {
          "output_type": "execute_result",
          "data": {
            "text/html": [
              "<div>\n",
              "<style scoped>\n",
              "    .dataframe tbody tr th:only-of-type {\n",
              "        vertical-align: middle;\n",
              "    }\n",
              "\n",
              "    .dataframe tbody tr th {\n",
              "        vertical-align: top;\n",
              "    }\n",
              "\n",
              "    .dataframe thead th {\n",
              "        text-align: right;\n",
              "    }\n",
              "</style>\n",
              "<table border=\"1\" class=\"dataframe\">\n",
              "  <thead>\n",
              "    <tr style=\"text-align: right;\">\n",
              "      <th></th>\n",
              "      <th>Ind_description</th>\n",
              "      <th>Frequency</th>\n",
              "      <th>Ita_description</th>\n",
              "      <th>Frequency</th>\n",
              "      <th>Mex_description</th>\n",
              "      <th>Frequency</th>\n",
              "    </tr>\n",
              "  </thead>\n",
              "  <tbody>\n",
              "    <tr>\n",
              "      <th>0</th>\n",
              "      <td>indian</td>\n",
              "      <td>119</td>\n",
              "      <td>italian</td>\n",
              "      <td>79</td>\n",
              "      <td>chicken</td>\n",
              "      <td>126</td>\n",
              "    </tr>\n",
              "    <tr>\n",
              "      <th>1</th>\n",
              "      <td>curry</td>\n",
              "      <td>101</td>\n",
              "      <td>sauce</td>\n",
              "      <td>63</td>\n",
              "      <td>beef</td>\n",
              "      <td>77</td>\n",
              "    </tr>\n",
              "    <tr>\n",
              "      <th>2</th>\n",
              "      <td>dish</td>\n",
              "      <td>83</td>\n",
              "      <td>cheese</td>\n",
              "      <td>61</td>\n",
              "      <td>recipe</td>\n",
              "      <td>77</td>\n",
              "    </tr>\n",
              "    <tr>\n",
              "      <th>3</th>\n",
              "      <td>chicken</td>\n",
              "      <td>80</td>\n",
              "      <td>pasta</td>\n",
              "      <td>51</td>\n",
              "      <td>cheese</td>\n",
              "      <td>76</td>\n",
              "    </tr>\n",
              "    <tr>\n",
              "      <th>4</th>\n",
              "      <td>recipe</td>\n",
              "      <td>61</td>\n",
              "      <td>chicken</td>\n",
              "      <td>49</td>\n",
              "      <td>mexican</td>\n",
              "      <td>69</td>\n",
              "    </tr>\n",
              "    <tr>\n",
              "      <th>5</th>\n",
              "      <td>rice</td>\n",
              "      <td>53</td>\n",
              "      <td>recipe</td>\n",
              "      <td>43</td>\n",
              "      <td>corn</td>\n",
              "      <td>68</td>\n",
              "    </tr>\n",
              "    <tr>\n",
              "      <th>6</th>\n",
              "      <td>spicy</td>\n",
              "      <td>51</td>\n",
              "      <td>easy</td>\n",
              "      <td>41</td>\n",
              "      <td>make</td>\n",
              "      <td>68</td>\n",
              "    </tr>\n",
              "    <tr>\n",
              "      <th>7</th>\n",
              "      <td>spices</td>\n",
              "      <td>50</td>\n",
              "      <td>garlic</td>\n",
              "      <td>36</td>\n",
              "      <td>sauce</td>\n",
              "      <td>64</td>\n",
              "    </tr>\n",
              "    <tr>\n",
              "      <th>8</th>\n",
              "      <td>made</td>\n",
              "      <td>48</td>\n",
              "      <td>tomatoes</td>\n",
              "      <td>35</td>\n",
              "      <td>beans</td>\n",
              "      <td>62</td>\n",
              "    </tr>\n",
              "    <tr>\n",
              "      <th>9</th>\n",
              "      <td>sauce</td>\n",
              "      <td>44</td>\n",
              "      <td>dish</td>\n",
              "      <td>35</td>\n",
              "      <td>salsa</td>\n",
              "      <td>58</td>\n",
              "    </tr>\n",
              "    <tr>\n",
              "      <th>10</th>\n",
              "      <td>easy</td>\n",
              "      <td>41</td>\n",
              "      <td>delicious</td>\n",
              "      <td>35</td>\n",
              "      <td>spicy</td>\n",
              "      <td>53</td>\n",
              "    </tr>\n",
              "    <tr>\n",
              "      <th>11</th>\n",
              "      <td>simmered</td>\n",
              "      <td>39</td>\n",
              "      <td>make</td>\n",
              "      <td>31</td>\n",
              "      <td>tortillas</td>\n",
              "      <td>53</td>\n",
              "    </tr>\n",
              "    <tr>\n",
              "      <th>12</th>\n",
              "      <td>yogurt</td>\n",
              "      <td>36</td>\n",
              "      <td>tomato</td>\n",
              "      <td>31</td>\n",
              "      <td>easy</td>\n",
              "      <td>51</td>\n",
              "    </tr>\n",
              "    <tr>\n",
              "      <th>13</th>\n",
              "      <td>potatoes</td>\n",
              "      <td>35</td>\n",
              "      <td>fresh</td>\n",
              "      <td>29</td>\n",
              "      <td>ground</td>\n",
              "      <td>48</td>\n",
              "    </tr>\n",
              "    <tr>\n",
              "      <th>14</th>\n",
              "      <td>make</td>\n",
              "      <td>35</td>\n",
              "      <td>bread</td>\n",
              "      <td>29</td>\n",
              "      <td>rice</td>\n",
              "      <td>47</td>\n",
              "    </tr>\n",
              "  </tbody>\n",
              "</table>\n",
              "</div>"
            ],
            "text/plain": [
              "   Ind_description  Frequency Ita_description  Frequency Mex_description  \\\n",
              "0           indian        119         italian         79         chicken   \n",
              "1            curry        101           sauce         63            beef   \n",
              "2             dish         83          cheese         61          recipe   \n",
              "3          chicken         80           pasta         51          cheese   \n",
              "4           recipe         61         chicken         49         mexican   \n",
              "5             rice         53          recipe         43            corn   \n",
              "6            spicy         51            easy         41            make   \n",
              "7           spices         50          garlic         36           sauce   \n",
              "8             made         48        tomatoes         35           beans   \n",
              "9            sauce         44            dish         35           salsa   \n",
              "10            easy         41       delicious         35           spicy   \n",
              "11        simmered         39            make         31       tortillas   \n",
              "12          yogurt         36          tomato         31            easy   \n",
              "13        potatoes         35           fresh         29          ground   \n",
              "14            make         35           bread         29            rice   \n",
              "\n",
              "    Frequency  \n",
              "0         126  \n",
              "1          77  \n",
              "2          77  \n",
              "3          76  \n",
              "4          69  \n",
              "5          68  \n",
              "6          68  \n",
              "7          64  \n",
              "8          62  \n",
              "9          58  \n",
              "10         53  \n",
              "11         53  \n",
              "12         51  \n",
              "13         48  \n",
              "14         47  "
            ]
          },
          "metadata": {
            "tags": []
          },
          "execution_count": 21
        }
      ]
    },
    {
      "cell_type": "markdown",
      "metadata": {
        "id": "jMR3pVrwgcp2",
        "colab_type": "text"
      },
      "source": [
        "<div class=\"alert alert-success\">\n",
        "\n",
        "As you might have noticed, indian food and mexican food share some similarities, such as spicy-related words, sauce-related words, rice, etc. This is somewhere that we need to keep an eye on.\n",
        "</b>\n"
      ]
    },
    {
      "cell_type": "markdown",
      "metadata": {
        "colab_type": "text",
        "id": "nXbdMtOGEFPi"
      },
      "source": [
        "## Split the dataset\n",
        "\n",
        "As being discussed in group meeting, we split the dataset into training, validation, development and test datasets.\n",
        "\n",
        "If we do multi-labelling, we need to make sure that all datasets above contains same proportion of the 3 recipes. I decided to have 30% labelled data, in which 10% for dev set, 10% for validation set, and the remaining 10% for test set. We left 70% data to training set."
      ]
    },
    {
      "cell_type": "code",
      "metadata": {
        "colab_type": "code",
        "id": "Agcde9nWCooH",
        "colab": {}
      },
      "source": [
        "# Split the dataset\n",
        "# Use ShuffleStratifiedSplit to ensure same proportion of each dataset\n",
        "from sklearn.model_selection import StratifiedShuffleSplit\n",
        "sss = StratifiedShuffleSplit(n_splits=3, test_size=0.3, random_state=0)\n",
        "\n",
        "# Get different labelled data\n",
        "ind = recipe[recipe['label'] == 'indian']\n",
        "ind.reset_index(drop=True,inplace=True)\n",
        "ita = recipe[recipe['label'] == 'italian']\n",
        "ita.reset_index(drop=True,inplace=True)\n",
        "mex = recipe[recipe['label'] == 'mexican']\n",
        "mex.reset_index(drop=True,inplace=True)\n",
        "\n",
        "# Split function (leave 70% for training)\n",
        "def shuffle_split(df,sss):\n",
        "  X = df[['Title','Description']]\n",
        "  y = df['label']\n",
        "  for train_index, test_index in sss.split(X, y):\n",
        "    X_train, X_test = X.loc[train_index], X.loc[test_index]\n",
        "    y_train, y_test = y[train_index], y[test_index]\n",
        "    return X_train, X_test, y_train, y_test\n",
        "\n",
        "ind_X_train, ind_X_test, ind_y_train, ind_y_test = shuffle_split(ind,sss)\n",
        "ita_X_train, ita_X_test, ita_y_train, ita_y_test = shuffle_split(ita,sss)\n",
        "mex_X_train, mex_X_test, mex_y_train, mex_y_test = shuffle_split(mex,sss)"
      ],
      "execution_count": 0,
      "outputs": []
    },
    {
      "cell_type": "code",
      "metadata": {
        "id": "6gubRhDAgcp4",
        "colab_type": "code",
        "colab": {},
        "outputId": "3ccde9c2-498d-4c6a-f4fb-d76e18af0f28"
      },
      "source": [
        "print('indian: ',len(ind_X_train),len(ind_X_test))\n",
        "print('italian: ',len(ita_X_train),len(ita_X_test))\n",
        "print('mexican: ',len(mex_X_train),len(mex_X_test))"
      ],
      "execution_count": 0,
      "outputs": [
        {
          "output_type": "stream",
          "text": [
            "indian:  336 144\n",
            "italian:  280 120\n",
            "mexican:  434 186\n"
          ],
          "name": "stdout"
        }
      ]
    },
    {
      "cell_type": "code",
      "metadata": {
        "colab_type": "code",
        "id": "-OxgR17ORUlH",
        "colab": {}
      },
      "source": [
        "# Combine training and test dataset\n",
        "X_train = pd.concat([ind_X_train,ita_X_train,mex_X_train],axis=0)\n",
        "y_train = pd.concat([ind_y_train,ita_y_train,mex_y_train],axis=0)\n",
        "X_test =  pd.concat([ind_X_test,ita_X_test,mex_X_test],axis=0)\n",
        "y_test =  pd.concat([ind_y_test,ita_y_test,mex_y_test],axis=0)"
      ],
      "execution_count": 0,
      "outputs": []
    },
    {
      "cell_type": "code",
      "metadata": {
        "id": "iAOI-9TLgcp8",
        "colab_type": "code",
        "colab": {}
      },
      "source": [
        "# Combine training dataset\n",
        "train = pd.concat([X_train,y_train],axis=1)"
      ],
      "execution_count": 0,
      "outputs": []
    },
    {
      "cell_type": "code",
      "metadata": {
        "id": "9Zc6mVP8gcp-",
        "colab_type": "code",
        "colab": {}
      },
      "source": [
        "# Combine the test dataset for next splitting\n",
        "test = pd.concat([X_test,y_test],axis=1)\n",
        "test = test.reset_index(drop=True)"
      ],
      "execution_count": 0,
      "outputs": []
    },
    {
      "cell_type": "markdown",
      "metadata": {
        "id": "gtBYoagXgcqA",
        "colab_type": "text"
      },
      "source": [
        "Split development and validation dataset from test dataset."
      ]
    },
    {
      "cell_type": "code",
      "metadata": {
        "id": "1bT5jteegcqA",
        "colab_type": "code",
        "colab": {}
      },
      "source": [
        "# From randomly sampled test set get dev set and validation set.\n",
        "\n",
        "ind_val, ind_dev = test[:48], test[48:96]\n",
        "ita_val, ita_dev = test[144:184], test[184:224]\n",
        "mex_val, mex_dev = test[264:326], test[326:388]\n",
        "ind_test, ita_test, mex_test = test[96:144],test[224:264],test[388:450]"
      ],
      "execution_count": 0,
      "outputs": []
    },
    {
      "cell_type": "code",
      "metadata": {
        "id": "OkL7dmVfgcqC",
        "colab_type": "code",
        "colab": {}
      },
      "source": [
        "# Combine val, dev and test set\n",
        "\n",
        "val = pd.concat([ind_val,ita_val,mex_val],axis=0)\n",
        "dev = pd.concat([ind_dev,ita_dev,mex_dev],axis=0)\n",
        "test_n = pd.concat([ind_test,ita_test,mex_test],axis=0)"
      ],
      "execution_count": 0,
      "outputs": []
    },
    {
      "cell_type": "markdown",
      "metadata": {
        "id": "vAGvuMrFgcqD",
        "colab_type": "text"
      },
      "source": [
        "As we split the dataset by different countries, we need to shuffle them before training."
      ]
    },
    {
      "cell_type": "code",
      "metadata": {
        "id": "kosR2AgkgcqE",
        "colab_type": "code",
        "colab": {}
      },
      "source": [
        "from sklearn.utils import shuffle\n",
        "train = shuffle(train, random_state = 42)\n",
        "test = shuffle(test_n, random_state = 42)\n",
        "val = shuffle(val, random_state = 42)\n",
        "dev = shuffle(dev, random_state = 42)"
      ],
      "execution_count": 0,
      "outputs": []
    },
    {
      "cell_type": "markdown",
      "metadata": {
        "id": "QANWCLRQgcqG",
        "colab_type": "text"
      },
      "source": [
        "To apply LFAnalysis, we need to change labels to number."
      ]
    },
    {
      "cell_type": "code",
      "metadata": {
        "id": "ZjD-afNsgcqH",
        "colab_type": "code",
        "colab": {}
      },
      "source": [
        "# Change labels to number\n",
        "def label_to_num(df):\n",
        "    df.label = df.label.apply(lambda x: 0 if x == 'indian' else(1 if x == 'italian' else 2))\n",
        "    return df\n",
        "    \n",
        "test_n = label_to_num(test_n)\n",
        "val = label_to_num(val)\n",
        "dev = label_to_num(dev)"
      ],
      "execution_count": 0,
      "outputs": []
    },
    {
      "cell_type": "code",
      "metadata": {
        "id": "Yd8W7OENgcqI",
        "colab_type": "code",
        "colab": {}
      },
      "source": [
        "# Prepare for later training\n",
        "df_train = train.iloc[:,:2]\n",
        "df_val = val.iloc[:,:2]\n",
        "df_dev = dev.iloc[:,:2]\n",
        "Y_val = val.iloc[:,-1].values\n",
        "Y_dev = dev.iloc[:,-1].values"
      ],
      "execution_count": 0,
      "outputs": []
    },
    {
      "cell_type": "markdown",
      "metadata": {
        "id": "mLrKC6HvgcqK",
        "colab_type": "text"
      },
      "source": [
        "# Labelling functions"
      ]
    },
    {
      "cell_type": "code",
      "metadata": {
        "id": "teLVGuwGgcqL",
        "colab_type": "code",
        "colab": {}
      },
      "source": [
        "from snorkel.labeling import labeling_function"
      ],
      "execution_count": 0,
      "outputs": []
    },
    {
      "cell_type": "code",
      "metadata": {
        "id": "ijzvkLOigcqM",
        "colab_type": "code",
        "colab": {}
      },
      "source": [
        "# For clarity, we define constants to represent the class labels and abstaining.\n",
        "ABSTAIN = -1\n",
        "INDIAN = 0\n",
        "ITALIAN = 1\n",
        "MEXICAN = 2"
      ],
      "execution_count": 0,
      "outputs": []
    },
    {
      "cell_type": "markdown",
      "metadata": {
        "id": "ZkDJHO8UgcqO",
        "colab_type": "text"
      },
      "source": [
        "## Keywords LFs"
      ]
    },
    {
      "cell_type": "code",
      "metadata": {
        "id": "IMeOvEJogcqQ",
        "colab_type": "code",
        "colab": {}
      },
      "source": [
        "ind_keywords = ['curry','indian','masala','paneer','chutney']\n",
        "\n",
        "@labeling_function()\n",
        "def indian_keywords(x):\n",
        "        if any(word in x.Title for word in ind_keywords):\n",
        "            return INDIAN\n",
        "        else:\n",
        "            return ABSTAIN"
      ],
      "execution_count": 0,
      "outputs": []
    },
    {
      "cell_type": "code",
      "metadata": {
        "id": "ohIc2yvTgcqS",
        "colab_type": "code",
        "colab": {}
      },
      "source": [
        "import re\n",
        "\n",
        "@labeling_function()\n",
        "def curchicken(x):\n",
        "    return INDIAN if re.search(r\"curry.*chicken\", x.Description, flags=re.I) else ABSTAIN"
      ],
      "execution_count": 0,
      "outputs": []
    },
    {
      "cell_type": "code",
      "metadata": {
        "id": "tQJLB1xugcqU",
        "colab_type": "code",
        "colab": {},
        "outputId": "f0b80c17-78e7-4323-b1a4-b589e51e8ff5"
      },
      "source": [
        "from snorkel.labeling import PandasLFApplier\n",
        "\n",
        "lfs = [indian_keywords, curchicken]\n",
        "\n",
        "applier = PandasLFApplier(lfs=lfs)\n",
        "L_train = applier.apply(df=df_train)\n",
        "L_dev = applier.apply(df=df_dev)"
      ],
      "execution_count": 0,
      "outputs": [
        {
          "output_type": "stream",
          "text": [
            "\n",
            "\n",
            "\n",
            "\n",
            "  0%|          | 0/1050 [00:00<?, ?it/s]\u001b[A\u001b[A\u001b[A\u001b[A\n",
            "\n",
            "\n",
            "\n",
            "100%|██████████| 1050/1050 [00:00<00:00, 7795.12it/s][A\u001b[A\u001b[A\u001b[A\n",
            "\n",
            "\n",
            "\n",
            "\n",
            "100%|██████████| 150/150 [00:00<00:00, 12384.02it/s]\n"
          ],
          "name": "stderr"
        }
      ]
    },
    {
      "cell_type": "code",
      "metadata": {
        "id": "UCmijzFKgcqW",
        "colab_type": "code",
        "colab": {},
        "outputId": "d6220d54-6781-4386-8823-d954c07f9fef"
      },
      "source": [
        "from snorkel.labeling import LFAnalysis\n",
        "\n",
        "LFAnalysis(L=L_train, lfs=lfs).lf_summary()"
      ],
      "execution_count": 0,
      "outputs": [
        {
          "output_type": "execute_result",
          "data": {
            "text/html": [
              "<div>\n",
              "<style scoped>\n",
              "    .dataframe tbody tr th:only-of-type {\n",
              "        vertical-align: middle;\n",
              "    }\n",
              "\n",
              "    .dataframe tbody tr th {\n",
              "        vertical-align: top;\n",
              "    }\n",
              "\n",
              "    .dataframe thead th {\n",
              "        text-align: right;\n",
              "    }\n",
              "</style>\n",
              "<table border=\"1\" class=\"dataframe\">\n",
              "  <thead>\n",
              "    <tr style=\"text-align: right;\">\n",
              "      <th></th>\n",
              "      <th>j</th>\n",
              "      <th>Polarity</th>\n",
              "      <th>Coverage</th>\n",
              "      <th>Overlaps</th>\n",
              "      <th>Conflicts</th>\n",
              "    </tr>\n",
              "  </thead>\n",
              "  <tbody>\n",
              "    <tr>\n",
              "      <th>indian_keywords</th>\n",
              "      <td>0</td>\n",
              "      <td>[0]</td>\n",
              "      <td>0.144762</td>\n",
              "      <td>0.00381</td>\n",
              "      <td>0.0</td>\n",
              "    </tr>\n",
              "    <tr>\n",
              "      <th>curchicken</th>\n",
              "      <td>1</td>\n",
              "      <td>[0]</td>\n",
              "      <td>0.004762</td>\n",
              "      <td>0.00381</td>\n",
              "      <td>0.0</td>\n",
              "    </tr>\n",
              "  </tbody>\n",
              "</table>\n",
              "</div>"
            ],
            "text/plain": [
              "                 j Polarity  Coverage  Overlaps  Conflicts\n",
              "indian_keywords  0      [0]  0.144762   0.00381        0.0\n",
              "curchicken       1      [0]  0.004762   0.00381        0.0"
            ]
          },
          "metadata": {
            "tags": []
          },
          "execution_count": 167
        }
      ]
    },
    {
      "cell_type": "code",
      "metadata": {
        "scrolled": false,
        "id": "BurRydgigcqY",
        "colab_type": "code",
        "colab": {},
        "outputId": "44d3ba24-6892-46d7-b30b-f2b9eb25ed39"
      },
      "source": [
        "Y_dev"
      ],
      "execution_count": 0,
      "outputs": [
        {
          "output_type": "execute_result",
          "data": {
            "text/plain": [
              "array([[-1, -1],\n",
              "       [-1, -1],\n",
              "       [-1, -1],\n",
              "       [-1, -1],\n",
              "       [-1, -1],\n",
              "       [-1, -1],\n",
              "       [-1, -1],\n",
              "       [-1, -1],\n",
              "       [-1, -1],\n",
              "       [-1, -1],\n",
              "       [-1, -1],\n",
              "       [-1, -1],\n",
              "       [-1, -1],\n",
              "       [-1, -1],\n",
              "       [-1, -1],\n",
              "       [-1, -1],\n",
              "       [-1, -1],\n",
              "       [-1, -1],\n",
              "       [-1, -1],\n",
              "       [-1, -1],\n",
              "       [ 0, -1],\n",
              "       [-1, -1],\n",
              "       [-1, -1],\n",
              "       [-1, -1],\n",
              "       [-1, -1],\n",
              "       [-1, -1],\n",
              "       [-1, -1],\n",
              "       [-1, -1],\n",
              "       [ 0, -1],\n",
              "       [ 0, -1],\n",
              "       [ 0, -1],\n",
              "       [-1, -1],\n",
              "       [-1, -1],\n",
              "       [ 0, -1],\n",
              "       [ 0, -1],\n",
              "       [-1, -1],\n",
              "       [-1, -1],\n",
              "       [-1, -1],\n",
              "       [ 0, -1],\n",
              "       [ 0, -1],\n",
              "       [-1, -1],\n",
              "       [-1, -1],\n",
              "       [-1, -1],\n",
              "       [-1, -1],\n",
              "       [-1, -1],\n",
              "       [-1, -1],\n",
              "       [-1, -1],\n",
              "       [-1, -1],\n",
              "       [-1, -1],\n",
              "       [-1, -1],\n",
              "       [-1, -1],\n",
              "       [-1, -1],\n",
              "       [-1, -1],\n",
              "       [-1, -1],\n",
              "       [-1, -1],\n",
              "       [-1, -1],\n",
              "       [-1, -1],\n",
              "       [-1, -1],\n",
              "       [ 0, -1],\n",
              "       [-1, -1],\n",
              "       [-1, -1],\n",
              "       [ 0, -1],\n",
              "       [-1, -1],\n",
              "       [ 0, -1],\n",
              "       [-1, -1],\n",
              "       [-1, -1],\n",
              "       [-1, -1],\n",
              "       [-1, -1],\n",
              "       [ 0, -1],\n",
              "       [-1, -1],\n",
              "       [-1, -1],\n",
              "       [-1, -1],\n",
              "       [-1, -1],\n",
              "       [-1, -1],\n",
              "       [-1, -1],\n",
              "       [-1, -1],\n",
              "       [-1, -1],\n",
              "       [-1, -1],\n",
              "       [-1, -1],\n",
              "       [-1, -1],\n",
              "       [-1, -1],\n",
              "       [ 0, -1],\n",
              "       [ 0, -1],\n",
              "       [-1, -1],\n",
              "       [-1, -1],\n",
              "       [-1, -1],\n",
              "       [-1, -1],\n",
              "       [-1, -1],\n",
              "       [-1, -1],\n",
              "       [-1, -1],\n",
              "       [-1, -1],\n",
              "       [-1, -1],\n",
              "       [-1, -1],\n",
              "       [-1, -1],\n",
              "       [-1, -1],\n",
              "       [-1, -1],\n",
              "       [ 0, -1],\n",
              "       [-1, -1],\n",
              "       [-1, -1],\n",
              "       [-1, -1],\n",
              "       [-1, -1],\n",
              "       [ 0, -1],\n",
              "       [-1, -1],\n",
              "       [-1, -1],\n",
              "       [-1, -1],\n",
              "       [-1, -1],\n",
              "       [-1, -1],\n",
              "       [-1, -1],\n",
              "       [-1, -1],\n",
              "       [-1, -1],\n",
              "       [-1, -1],\n",
              "       [-1, -1],\n",
              "       [-1, -1],\n",
              "       [-1, -1],\n",
              "       [-1, -1],\n",
              "       [-1, -1],\n",
              "       [-1, -1],\n",
              "       [-1, -1],\n",
              "       [-1, -1],\n",
              "       [-1, -1],\n",
              "       [-1, -1],\n",
              "       [-1, -1],\n",
              "       [-1, -1],\n",
              "       [-1, -1],\n",
              "       [ 0, -1],\n",
              "       [-1, -1],\n",
              "       [-1, -1],\n",
              "       [-1, -1],\n",
              "       [-1, -1],\n",
              "       [-1, -1],\n",
              "       [-1, -1],\n",
              "       [-1, -1],\n",
              "       [ 0, -1],\n",
              "       [-1, -1],\n",
              "       [ 0, -1],\n",
              "       [-1, -1],\n",
              "       [-1, -1],\n",
              "       [-1, -1],\n",
              "       [-1, -1],\n",
              "       [-1, -1],\n",
              "       [-1, -1],\n",
              "       [-1, -1],\n",
              "       [-1, -1],\n",
              "       [-1, -1],\n",
              "       [ 0, -1],\n",
              "       [-1, -1],\n",
              "       [-1, -1],\n",
              "       [ 0, -1],\n",
              "       [-1, -1],\n",
              "       [-1, -1]])"
            ]
          },
          "metadata": {
            "tags": []
          },
          "execution_count": 117
        }
      ]
    },
    {
      "cell_type": "code",
      "metadata": {
        "id": "hURjE3xygcqa",
        "colab_type": "code",
        "colab": {},
        "outputId": "93e66225-1c34-4c17-ad27-851e7dd5ecca"
      },
      "source": [
        "LFAnalysis(L=L_dev, lfs=lfs).lf_summary(Y=Y_dev)"
      ],
      "execution_count": 0,
      "outputs": [
        {
          "output_type": "execute_result",
          "data": {
            "text/html": [
              "<div>\n",
              "<style scoped>\n",
              "    .dataframe tbody tr th:only-of-type {\n",
              "        vertical-align: middle;\n",
              "    }\n",
              "\n",
              "    .dataframe tbody tr th {\n",
              "        vertical-align: top;\n",
              "    }\n",
              "\n",
              "    .dataframe thead th {\n",
              "        text-align: right;\n",
              "    }\n",
              "</style>\n",
              "<table border=\"1\" class=\"dataframe\">\n",
              "  <thead>\n",
              "    <tr style=\"text-align: right;\">\n",
              "      <th></th>\n",
              "      <th>j</th>\n",
              "      <th>Polarity</th>\n",
              "      <th>Coverage</th>\n",
              "      <th>Overlaps</th>\n",
              "      <th>Conflicts</th>\n",
              "      <th>Correct</th>\n",
              "      <th>Incorrect</th>\n",
              "      <th>Emp. Acc.</th>\n",
              "    </tr>\n",
              "  </thead>\n",
              "  <tbody>\n",
              "    <tr>\n",
              "      <th>indian_keywords</th>\n",
              "      <td>0</td>\n",
              "      <td>[0]</td>\n",
              "      <td>0.12</td>\n",
              "      <td>0.0</td>\n",
              "      <td>0.0</td>\n",
              "      <td>18</td>\n",
              "      <td>0</td>\n",
              "      <td>1.0</td>\n",
              "    </tr>\n",
              "    <tr>\n",
              "      <th>curchicken</th>\n",
              "      <td>1</td>\n",
              "      <td>[]</td>\n",
              "      <td>0.00</td>\n",
              "      <td>0.0</td>\n",
              "      <td>0.0</td>\n",
              "      <td>0</td>\n",
              "      <td>0</td>\n",
              "      <td>0.0</td>\n",
              "    </tr>\n",
              "  </tbody>\n",
              "</table>\n",
              "</div>"
            ],
            "text/plain": [
              "                 j Polarity  Coverage  Overlaps  Conflicts  Correct  \\\n",
              "indian_keywords  0      [0]      0.12       0.0        0.0       18   \n",
              "curchicken       1       []      0.00       0.0        0.0        0   \n",
              "\n",
              "                 Incorrect  Emp. Acc.  \n",
              "indian_keywords          0        1.0  \n",
              "curchicken               0        0.0  "
            ]
          },
          "metadata": {
            "tags": []
          },
          "execution_count": 168
        }
      ]
    }
  ]
}